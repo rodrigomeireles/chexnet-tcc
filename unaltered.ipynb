{
 "cells": [
  {
   "cell_type": "markdown",
   "id": "432a74e4",
   "metadata": {},
   "source": [
    "### Vanilla dataset"
   ]
  },
  {
   "cell_type": "code",
   "execution_count": 1,
   "id": "bab1d7ef",
   "metadata": {},
   "outputs": [
    {
     "name": "stdout",
     "output_type": "stream",
     "text": [
      "Found 703 files belonging to 2 classes.\n",
      "Using 605 files for training.\n",
      "Found 703 files belonging to 2 classes.\n",
      "Using 98 files for validation.\n"
     ]
    }
   ],
   "source": [
    "import tensorflow as tf \n",
    "import numpy as np\n",
    "import pandas as pd\n",
    "\n",
    "seed = 13\n",
    "batch_size = 16 \n",
    "img_height = 224 \n",
    "img_width = 224 \n",
    "img_size = (img_height, img_width)\n",
    "size = (img_height, img_width)\n",
    "data_dir = 'D:\\Downloads\\cxr_tcc'\n",
    "weight_path = 'D:\\Downloads\\\\brucechou1983_CheXNet_Keras_0.3.0_weights.h5'\n",
    "best_model_path = 'D:\\Documentos\\projeto convs\\models\\\\vanilla'\n",
    "\n",
    "\n",
    "## Split do dataset.\n",
    "\n",
    "full_train_ds = tf.keras.preprocessing.image_dataset_from_directory(\n",
    "    data_dir,\n",
    "    validation_split=0.14,\n",
    "    subset=\"training\",\n",
    "    seed= seed,\n",
    "    image_size= img_size,\n",
    "    batch_size = batch_size\n",
    ")\n",
    "test_ds = tf.keras.preprocessing.image_dataset_from_directory(\n",
    "    data_dir,\n",
    "    validation_split=0.14, #98 imagens pra teste\n",
    "    subset=\"validation\",\n",
    "    seed= seed,\n",
    "    image_size= img_size,\n",
    "    batch_size = batch_size\n",
    ")\n",
    "\n",
    "full_train_ds.shuffle(1000, reshuffle_each_iteration = False, seed = seed) #embaralha e desativa shuffle pois usar o map que virá depois itera o dataset, o reshuffle pode causar vazamento de dados\n",
    "\n",
    "def recover(x, y):\n",
    "    return y\n",
    "\n",
    "def is_val(x, y):\n",
    "    return x%6 == 0 # 1/6 do dataset ~ 100 imagens pra validação\n",
    "\n",
    "def is_train(x,y):\n",
    "    return not is_val(x,y)\n",
    "\n",
    "val_ds = full_train_ds.enumerate().filter(is_val).map(recover)\n",
    "train_ds = full_train_ds.enumerate().filter(is_train).map(recover)\n",
    "\n",
    "full_train_ds.shuffle(1000, reshuffle_each_iteration = True, seed = seed) #reseta o shuffle para acontecer o shuffle entre épocas do treino\n",
    "\n",
    "\n",
    "import keras\n",
    "from keras import layers\n",
    "import keras_tuner as kt\n",
    "\n",
    "channels = tuple([3])\n",
    "shape = size + channels\n",
    "\n",
    "def get_model(hp):\n",
    "    inputs = keras.Input(shape = shape)\n",
    "    x = layers.RandomRotation(0.05)(inputs) #tentar rotacionar menos\n",
    "    x = layers.Rescaling(scale=1./127.5, offset=-1)(x) #normalização \"manual\"\n",
    "\n",
    "    chexnet = tf.keras.applications.DenseNet121(weights= None,\n",
    "                                                include_top = False, \n",
    "                                                input_tensor = x,\n",
    "                                                input_shape = shape\n",
    "                                               )\n",
    "\n",
    "    out = tf.keras.layers.Dense(14, activation='sigmoid')(chexnet.output)\n",
    "    model = tf.keras.Model(inputs, out)\n",
    "    \n",
    "    for layer in chexnet.layers:\n",
    "        layer.trainable = False\n",
    "    model.load_weights(weight_path)\n",
    "    \n",
    "    x =  layers.GlobalAveragePooling2D()(chexnet.output)\n",
    "    preds = layers.Dense(units = 1, activation = 'sigmoid', name='prediction')(x)\n",
    "    model = tf.keras.Model(model.input, preds)\n",
    "    #Tune LR\n",
    "    hp_lr = hp.Choice('learning_rate', values = [1e-2, 1e-3, 1e-4])\n",
    "    opt = tf.keras.optimizers.SGD(learning_rate = hp_lr)\n",
    "    model.compile(optimizer = opt, loss = 'binary_crossentropy', metrics = ['accuracy'])        \n",
    "    return model\n",
    "\n",
    "tuner = kt.RandomSearch(get_model, objective = kt.Objective('val_accuracy', direction = 'max'), max_trials = 3  , seed = 1337, overwrite = True)\n",
    "\n",
    "from keras.callbacks import ModelCheckpoint, EarlyStopping, ReduceLROnPlateau\n",
    "\n",
    "#Callbacks\n",
    "checkpoint = ModelCheckpoint(best_model_path, monitor='val_loss', verbose=1, \n",
    "                                save_best_only=True, mode='min', save_weights_only = True)\n",
    "\n",
    "reduceLROnPlat = ReduceLROnPlateau(monitor='val_loss', factor=0.5, \n",
    "                                patience=3, \n",
    "                                verbose=1, mode='min', min_delta=0.0001, cooldown=2, min_lr=1e-6)\n",
    "early = EarlyStopping(monitor=\"val_loss\", \n",
    "                    mode=\"min\", \n",
    "                    patience=15) \n",
    "\n",
    "callbacks = [checkpoint, early, reduceLROnPlat]"
   ]
  },
  {
   "cell_type": "markdown",
   "id": "49fc5cc5",
   "metadata": {},
   "source": [
    "### Hyperparameter Search"
   ]
  },
  {
   "cell_type": "code",
   "execution_count": 6,
   "id": "8967c587",
   "metadata": {},
   "outputs": [
    {
     "name": "stdout",
     "output_type": "stream",
     "text": [
      "Trial 3 Complete [00h 28m 28s]\n",
      "val_accuracy: 0.8571428656578064\n",
      "\n",
      "Best val_accuracy So Far: 0.8571428656578064\n",
      "Total elapsed time: 00h 53m 52s\n",
      "INFO:tensorflow:Oracle triggered exit\n"
     ]
    },
    {
     "name": "stdout",
     "output_type": "stream",
     "text": [
      "Best learning rate was 0.001.\n"
     ]
    }
   ],
   "source": [
    "tuner.search(train_ds, batch_size = batch_size, epochs = 100, validation_data = val_ds, callbacks = callbacks)\n",
    "best_hps = tuner.get_best_hyperparameters(5)\n",
    "print(f\"Best learning rate was {best_hps[1].get('learning_rate')}.\")\n",
    "model = get_model(best_hps[0])"
   ]
  },
  {
   "cell_type": "markdown",
   "id": "4cfa071b",
   "metadata": {},
   "source": [
    "### Full Training"
   ]
  },
  {
   "cell_type": "code",
   "execution_count": 3,
   "id": "aff4294b",
   "metadata": {},
   "outputs": [
    {
     "name": "stdout",
     "output_type": "stream",
     "text": [
      "Epoch 1/100\n",
      "\n",
      "Epoch 00001: val_loss improved from inf to 0.68879, saving model to D:\\Documentos\\projeto convs\\models\\vanilla\n",
      "38/38 - 72s - loss: 0.7030 - accuracy: 0.4777 - val_loss: 0.6888 - val_accuracy: 0.4796 - lr: 0.0100 - 72s/epoch - 2s/step\n",
      "Epoch 2/100\n",
      "\n",
      "Epoch 00002: val_loss improved from 0.68879 to 0.66144, saving model to D:\\Documentos\\projeto convs\\models\\vanilla\n",
      "38/38 - 14s - loss: 0.6799 - accuracy: 0.5322 - val_loss: 0.6614 - val_accuracy: 0.5408 - lr: 0.0100 - 14s/epoch - 373ms/step\n",
      "Epoch 3/100\n",
      "\n",
      "Epoch 00003: val_loss improved from 0.66144 to 0.63685, saving model to D:\\Documentos\\projeto convs\\models\\vanilla\n",
      "38/38 - 14s - loss: 0.6623 - accuracy: 0.6331 - val_loss: 0.6369 - val_accuracy: 0.8061 - lr: 0.0100 - 14s/epoch - 380ms/step\n",
      "Epoch 4/100\n",
      "\n",
      "Epoch 00004: val_loss improved from 0.63685 to 0.62008, saving model to D:\\Documentos\\projeto convs\\models\\vanilla\n",
      "38/38 - 16s - loss: 0.6477 - accuracy: 0.6826 - val_loss: 0.6201 - val_accuracy: 0.8163 - lr: 0.0100 - 16s/epoch - 423ms/step\n",
      "Epoch 5/100\n",
      "\n",
      "Epoch 00005: val_loss improved from 0.62008 to 0.60139, saving model to D:\\Documentos\\projeto convs\\models\\vanilla\n",
      "38/38 - 17s - loss: 0.6303 - accuracy: 0.7041 - val_loss: 0.6014 - val_accuracy: 0.7551 - lr: 0.0100 - 17s/epoch - 437ms/step\n",
      "Epoch 6/100\n",
      "\n",
      "Epoch 00006: val_loss improved from 0.60139 to 0.59605, saving model to D:\\Documentos\\projeto convs\\models\\vanilla\n",
      "38/38 - 17s - loss: 0.6174 - accuracy: 0.7157 - val_loss: 0.5960 - val_accuracy: 0.8163 - lr: 0.0100 - 17s/epoch - 437ms/step\n",
      "Epoch 7/100\n",
      "\n",
      "Epoch 00007: val_loss improved from 0.59605 to 0.57568, saving model to D:\\Documentos\\projeto convs\\models\\vanilla\n",
      "38/38 - 17s - loss: 0.6089 - accuracy: 0.7438 - val_loss: 0.5757 - val_accuracy: 0.7959 - lr: 0.0100 - 17s/epoch - 437ms/step\n",
      "Epoch 8/100\n",
      "\n",
      "Epoch 00008: val_loss improved from 0.57568 to 0.56897, saving model to D:\\Documentos\\projeto convs\\models\\vanilla\n",
      "38/38 - 17s - loss: 0.5928 - accuracy: 0.7752 - val_loss: 0.5690 - val_accuracy: 0.7959 - lr: 0.0100 - 17s/epoch - 436ms/step\n",
      "Epoch 9/100\n",
      "\n",
      "Epoch 00009: val_loss improved from 0.56897 to 0.56770, saving model to D:\\Documentos\\projeto convs\\models\\vanilla\n",
      "38/38 - 17s - loss: 0.5913 - accuracy: 0.7554 - val_loss: 0.5677 - val_accuracy: 0.8061 - lr: 0.0100 - 17s/epoch - 437ms/step\n",
      "Epoch 10/100\n",
      "\n",
      "Epoch 00010: val_loss improved from 0.56770 to 0.55860, saving model to D:\\Documentos\\projeto convs\\models\\vanilla\n",
      "38/38 - 17s - loss: 0.5763 - accuracy: 0.7653 - val_loss: 0.5586 - val_accuracy: 0.8163 - lr: 0.0100 - 17s/epoch - 437ms/step\n",
      "Epoch 11/100\n",
      "\n",
      "Epoch 00011: val_loss improved from 0.55860 to 0.53566, saving model to D:\\Documentos\\projeto convs\\models\\vanilla\n",
      "38/38 - 17s - loss: 0.5750 - accuracy: 0.7488 - val_loss: 0.5357 - val_accuracy: 0.7959 - lr: 0.0100 - 17s/epoch - 441ms/step\n",
      "Epoch 12/100\n",
      "\n",
      "Epoch 00012: val_loss improved from 0.53566 to 0.53243, saving model to D:\\Documentos\\projeto convs\\models\\vanilla\n",
      "38/38 - 17s - loss: 0.5577 - accuracy: 0.7818 - val_loss: 0.5324 - val_accuracy: 0.8163 - lr: 0.0100 - 17s/epoch - 435ms/step\n",
      "Epoch 13/100\n",
      "\n",
      "Epoch 00013: val_loss improved from 0.53243 to 0.52023, saving model to D:\\Documentos\\projeto convs\\models\\vanilla\n",
      "38/38 - 17s - loss: 0.5581 - accuracy: 0.7752 - val_loss: 0.5202 - val_accuracy: 0.8061 - lr: 0.0100 - 17s/epoch - 435ms/step\n",
      "Epoch 14/100\n",
      "\n",
      "Epoch 00014: val_loss improved from 0.52023 to 0.51869, saving model to D:\\Documentos\\projeto convs\\models\\vanilla\n",
      "38/38 - 15s - loss: 0.5462 - accuracy: 0.7752 - val_loss: 0.5187 - val_accuracy: 0.8163 - lr: 0.0100 - 15s/epoch - 400ms/step\n",
      "Epoch 15/100\n",
      "\n",
      "Epoch 00015: val_loss improved from 0.51869 to 0.51144, saving model to D:\\Documentos\\projeto convs\\models\\vanilla\n",
      "38/38 - 15s - loss: 0.5415 - accuracy: 0.7653 - val_loss: 0.5114 - val_accuracy: 0.8163 - lr: 0.0100 - 15s/epoch - 386ms/step\n",
      "Epoch 16/100\n",
      "\n",
      "Epoch 00016: val_loss improved from 0.51144 to 0.50654, saving model to D:\\Documentos\\projeto convs\\models\\vanilla\n",
      "38/38 - 14s - loss: 0.5424 - accuracy: 0.7818 - val_loss: 0.5065 - val_accuracy: 0.8265 - lr: 0.0100 - 14s/epoch - 375ms/step\n",
      "Epoch 17/100\n",
      "\n",
      "Epoch 00017: val_loss improved from 0.50654 to 0.49645, saving model to D:\\Documentos\\projeto convs\\models\\vanilla\n",
      "38/38 - 14s - loss: 0.5312 - accuracy: 0.7868 - val_loss: 0.4965 - val_accuracy: 0.8061 - lr: 0.0100 - 14s/epoch - 372ms/step\n",
      "Epoch 18/100\n",
      "\n",
      "Epoch 00018: val_loss improved from 0.49645 to 0.49557, saving model to D:\\Documentos\\projeto convs\\models\\vanilla\n",
      "38/38 - 14s - loss: 0.5263 - accuracy: 0.7934 - val_loss: 0.4956 - val_accuracy: 0.8265 - lr: 0.0100 - 14s/epoch - 371ms/step\n",
      "Epoch 19/100\n",
      "\n",
      "Epoch 00019: val_loss improved from 0.49557 to 0.49505, saving model to D:\\Documentos\\projeto convs\\models\\vanilla\n",
      "38/38 - 14s - loss: 0.5329 - accuracy: 0.7818 - val_loss: 0.4951 - val_accuracy: 0.8061 - lr: 0.0100 - 14s/epoch - 366ms/step\n",
      "Epoch 20/100\n",
      "\n",
      "Epoch 00020: val_loss improved from 0.49505 to 0.48580, saving model to D:\\Documentos\\projeto convs\\models\\vanilla\n",
      "38/38 - 13s - loss: 0.5197 - accuracy: 0.7802 - val_loss: 0.4858 - val_accuracy: 0.8367 - lr: 0.0100 - 13s/epoch - 352ms/step\n",
      "Epoch 21/100\n",
      "\n",
      "Epoch 00021: val_loss improved from 0.48580 to 0.48329, saving model to D:\\Documentos\\projeto convs\\models\\vanilla\n",
      "38/38 - 14s - loss: 0.5199 - accuracy: 0.7917 - val_loss: 0.4833 - val_accuracy: 0.8265 - lr: 0.0100 - 14s/epoch - 356ms/step\n",
      "Epoch 22/100\n",
      "\n",
      "Epoch 00022: val_loss improved from 0.48329 to 0.47481, saving model to D:\\Documentos\\projeto convs\\models\\vanilla\n",
      "38/38 - 14s - loss: 0.5126 - accuracy: 0.7835 - val_loss: 0.4748 - val_accuracy: 0.8061 - lr: 0.0100 - 14s/epoch - 377ms/step\n",
      "Epoch 23/100\n",
      "\n",
      "Epoch 00023: val_loss improved from 0.47481 to 0.47391, saving model to D:\\Documentos\\projeto convs\\models\\vanilla\n",
      "38/38 - 15s - loss: 0.5179 - accuracy: 0.7851 - val_loss: 0.4739 - val_accuracy: 0.8469 - lr: 0.0100 - 15s/epoch - 384ms/step\n",
      "Epoch 24/100\n",
      "\n",
      "Epoch 00024: val_loss did not improve from 0.47391\n",
      "38/38 - 14s - loss: 0.5035 - accuracy: 0.7901 - val_loss: 0.4740 - val_accuracy: 0.8163 - lr: 0.0100 - 14s/epoch - 360ms/step\n",
      "Epoch 25/100\n",
      "\n",
      "Epoch 00025: val_loss improved from 0.47391 to 0.47125, saving model to D:\\Documentos\\projeto convs\\models\\vanilla\n",
      "38/38 - 14s - loss: 0.5051 - accuracy: 0.7785 - val_loss: 0.4713 - val_accuracy: 0.8163 - lr: 0.0100 - 14s/epoch - 368ms/step\n",
      "Epoch 26/100\n",
      "\n",
      "Epoch 00026: val_loss improved from 0.47125 to 0.46960, saving model to D:\\Documentos\\projeto convs\\models\\vanilla\n",
      "38/38 - 14s - loss: 0.4943 - accuracy: 0.7851 - val_loss: 0.4696 - val_accuracy: 0.8163 - lr: 0.0100 - 14s/epoch - 379ms/step\n",
      "Epoch 27/100\n",
      "\n",
      "Epoch 00027: val_loss did not improve from 0.46960\n",
      "38/38 - 14s - loss: 0.4960 - accuracy: 0.8083 - val_loss: 0.4797 - val_accuracy: 0.8163 - lr: 0.0100 - 14s/epoch - 361ms/step\n",
      "Epoch 28/100\n",
      "\n",
      "Epoch 00028: val_loss improved from 0.46960 to 0.45796, saving model to D:\\Documentos\\projeto convs\\models\\vanilla\n",
      "38/38 - 15s - loss: 0.5019 - accuracy: 0.7967 - val_loss: 0.4580 - val_accuracy: 0.8571 - lr: 0.0100 - 15s/epoch - 385ms/step\n",
      "Epoch 29/100\n",
      "\n",
      "Epoch 00029: val_loss did not improve from 0.45796\n",
      "38/38 - 14s - loss: 0.4799 - accuracy: 0.7917 - val_loss: 0.4656 - val_accuracy: 0.8163 - lr: 0.0100 - 14s/epoch - 363ms/step\n",
      "Epoch 30/100\n",
      "\n",
      "Epoch 00030: val_loss did not improve from 0.45796\n",
      "38/38 - 14s - loss: 0.4818 - accuracy: 0.8000 - val_loss: 0.4584 - val_accuracy: 0.8163 - lr: 0.0100 - 14s/epoch - 359ms/step\n",
      "Epoch 31/100\n",
      "\n",
      "Epoch 00031: val_loss improved from 0.45796 to 0.45125, saving model to D:\\Documentos\\projeto convs\\models\\vanilla\n",
      "38/38 - 14s - loss: 0.4799 - accuracy: 0.7967 - val_loss: 0.4512 - val_accuracy: 0.8367 - lr: 0.0100 - 14s/epoch - 365ms/step\n",
      "Epoch 32/100\n",
      "\n",
      "Epoch 00032: val_loss did not improve from 0.45125\n",
      "38/38 - 13s - loss: 0.4900 - accuracy: 0.7917 - val_loss: 0.4552 - val_accuracy: 0.8163 - lr: 0.0100 - 13s/epoch - 348ms/step\n",
      "Epoch 33/100\n",
      "\n",
      "Epoch 00033: val_loss improved from 0.45125 to 0.44463, saving model to D:\\Documentos\\projeto convs\\models\\vanilla\n",
      "38/38 - 14s - loss: 0.4884 - accuracy: 0.8066 - val_loss: 0.4446 - val_accuracy: 0.8571 - lr: 0.0100 - 14s/epoch - 365ms/step\n",
      "Epoch 34/100\n",
      "\n",
      "Epoch 00034: val_loss improved from 0.44463 to 0.44159, saving model to D:\\Documentos\\projeto convs\\models\\vanilla\n",
      "38/38 - 14s - loss: 0.4722 - accuracy: 0.8000 - val_loss: 0.4416 - val_accuracy: 0.8571 - lr: 0.0100 - 14s/epoch - 370ms/step\n",
      "Epoch 35/100\n",
      "\n",
      "Epoch 00035: val_loss did not improve from 0.44159\n",
      "38/38 - 13s - loss: 0.4769 - accuracy: 0.8000 - val_loss: 0.4451 - val_accuracy: 0.8265 - lr: 0.0100 - 13s/epoch - 346ms/step\n",
      "Epoch 36/100\n",
      "\n",
      "Epoch 00036: val_loss did not improve from 0.44159\n",
      "38/38 - 13s - loss: 0.4753 - accuracy: 0.7983 - val_loss: 0.4468 - val_accuracy: 0.8163 - lr: 0.0100 - 13s/epoch - 347ms/step\n",
      "Epoch 37/100\n",
      "\n",
      "Epoch 00037: val_loss did not improve from 0.44159\n",
      "\n",
      "Epoch 00037: ReduceLROnPlateau reducing learning rate to 0.004999999888241291.\n",
      "38/38 - 13s - loss: 0.4729 - accuracy: 0.7934 - val_loss: 0.4421 - val_accuracy: 0.8163 - lr: 0.0100 - 13s/epoch - 346ms/step\n",
      "Epoch 38/100\n",
      "\n",
      "Epoch 00038: val_loss improved from 0.44159 to 0.43473, saving model to D:\\Documentos\\projeto convs\\models\\vanilla\n",
      "38/38 - 15s - loss: 0.4745 - accuracy: 0.8033 - val_loss: 0.4347 - val_accuracy: 0.8571 - lr: 0.0050 - 15s/epoch - 394ms/step\n",
      "Epoch 39/100\n",
      "\n",
      "Epoch 00039: val_loss did not improve from 0.43473\n",
      "38/38 - 14s - loss: 0.4683 - accuracy: 0.8132 - val_loss: 0.4370 - val_accuracy: 0.8367 - lr: 0.0050 - 14s/epoch - 367ms/step\n",
      "Epoch 40/100\n",
      "\n",
      "Epoch 00040: val_loss did not improve from 0.43473\n",
      "38/38 - 13s - loss: 0.4715 - accuracy: 0.7901 - val_loss: 0.4380 - val_accuracy: 0.8265 - lr: 0.0050 - 13s/epoch - 347ms/step\n",
      "Epoch 41/100\n",
      "\n",
      "Epoch 00041: val_loss did not improve from 0.43473\n",
      "\n",
      "Epoch 00041: ReduceLROnPlateau reducing learning rate to 0.0024999999441206455.\n",
      "38/38 - 13s - loss: 0.4682 - accuracy: 0.8083 - val_loss: 0.4362 - val_accuracy: 0.8367 - lr: 0.0050 - 13s/epoch - 348ms/step\n",
      "Epoch 42/100\n",
      "\n",
      "Epoch 00042: val_loss did not improve from 0.43473\n",
      "38/38 - 14s - loss: 0.4675 - accuracy: 0.8050 - val_loss: 0.4375 - val_accuracy: 0.8265 - lr: 0.0025 - 14s/epoch - 358ms/step\n",
      "Epoch 43/100\n",
      "\n",
      "Epoch 00043: val_loss did not improve from 0.43473\n",
      "38/38 - 14s - loss: 0.4671 - accuracy: 0.8099 - val_loss: 0.4375 - val_accuracy: 0.8163 - lr: 0.0025 - 14s/epoch - 363ms/step\n",
      "Epoch 44/100\n",
      "\n",
      "Epoch 00044: val_loss did not improve from 0.43473\n",
      "38/38 - 13s - loss: 0.4632 - accuracy: 0.8149 - val_loss: 0.4348 - val_accuracy: 0.8367 - lr: 0.0025 - 13s/epoch - 347ms/step\n",
      "Epoch 45/100\n",
      "\n",
      "Epoch 00045: val_loss did not improve from 0.43473\n",
      "\n",
      "Epoch 00045: ReduceLROnPlateau reducing learning rate to 0.0012499999720603228.\n",
      "38/38 - 13s - loss: 0.4586 - accuracy: 0.8066 - val_loss: 0.4367 - val_accuracy: 0.8163 - lr: 0.0025 - 13s/epoch - 343ms/step\n",
      "Epoch 46/100\n",
      "\n",
      "Epoch 00046: val_loss did not improve from 0.43473\n",
      "38/38 - 13s - loss: 0.4688 - accuracy: 0.8083 - val_loss: 0.4385 - val_accuracy: 0.8163 - lr: 0.0012 - 13s/epoch - 348ms/step\n",
      "Epoch 47/100\n",
      "\n",
      "Epoch 00047: val_loss did not improve from 0.43473\n",
      "38/38 - 13s - loss: 0.4686 - accuracy: 0.8050 - val_loss: 0.4364 - val_accuracy: 0.8163 - lr: 0.0012 - 13s/epoch - 341ms/step\n",
      "Epoch 48/100\n",
      "\n",
      "Epoch 00048: val_loss did not improve from 0.43473\n",
      "38/38 - 13s - loss: 0.4685 - accuracy: 0.8050 - val_loss: 0.4368 - val_accuracy: 0.8163 - lr: 0.0012 - 13s/epoch - 336ms/step\n",
      "Epoch 49/100\n",
      "\n",
      "Epoch 00049: val_loss did not improve from 0.43473\n",
      "\n",
      "Epoch 00049: ReduceLROnPlateau reducing learning rate to 0.0006249999860301614.\n",
      "38/38 - 13s - loss: 0.4754 - accuracy: 0.7967 - val_loss: 0.4376 - val_accuracy: 0.8163 - lr: 0.0012 - 13s/epoch - 343ms/step\n",
      "Epoch 50/100\n",
      "\n",
      "Epoch 00050: val_loss did not improve from 0.43473\n",
      "38/38 - 13s - loss: 0.4683 - accuracy: 0.8083 - val_loss: 0.4372 - val_accuracy: 0.8163 - lr: 6.2500e-04 - 13s/epoch - 337ms/step\n",
      "Epoch 51/100\n",
      "\n",
      "Epoch 00051: val_loss did not improve from 0.43473\n",
      "38/38 - 13s - loss: 0.4551 - accuracy: 0.8132 - val_loss: 0.4366 - val_accuracy: 0.8163 - lr: 6.2500e-04 - 13s/epoch - 336ms/step\n",
      "Epoch 52/100\n",
      "\n",
      "Epoch 00052: val_loss did not improve from 0.43473\n",
      "38/38 - 13s - loss: 0.4680 - accuracy: 0.8017 - val_loss: 0.4375 - val_accuracy: 0.8163 - lr: 6.2500e-04 - 13s/epoch - 337ms/step\n",
      "Epoch 53/100\n",
      "\n",
      "Epoch 00053: val_loss did not improve from 0.43473\n",
      "\n",
      "Epoch 00053: ReduceLROnPlateau reducing learning rate to 0.0003124999930150807.\n",
      "38/38 - 14s - loss: 0.4617 - accuracy: 0.8182 - val_loss: 0.4376 - val_accuracy: 0.8163 - lr: 6.2500e-04 - 14s/epoch - 356ms/step\n"
     ]
    }
   ],
   "source": [
    "lr = kt.HyperParameters()\n",
    "lr.Fixed(name = 'learning rate', value = 1e-3)\n",
    "model = get_model(lr)\n",
    "history = model.fit(full_train_ds, batch_size = batch_size, epochs = 100, verbose = 2, validation_data = test_ds, callbacks = callbacks)"
   ]
  },
  {
   "cell_type": "markdown",
   "id": "8b274649",
   "metadata": {},
   "source": [
    "### Resultados"
   ]
  },
  {
   "cell_type": "code",
   "execution_count": 4,
   "id": "25272256",
   "metadata": {},
   "outputs": [
    {
     "data": {
      "image/png": "[encoded data removed]",
      "text/plain": [
       "<Figure size 576x360 with 1 Axes>"
      ]
     },
     "metadata": {
      "needs_background": "light"
     },
     "output_type": "display_data"
    }
   ],
   "source": [
    "import pandas as pd\n",
    "import matplotlib.pyplot as plt\n",
    "\n",
    "model.load_weights(best_model_path)\n",
    "df = pd.DataFrame(history.history)[['loss', 'val_loss']]\n",
    "pd.DataFrame(df).plot(figsize=(8,5))\n",
    "plt.xlabel('Epochs')\n",
    "plt.savefig('fullvanillaloss.png')\n",
    "plt.show()"
   ]
  },
  {
   "cell_type": "code",
   "execution_count": 2,
   "id": "06b0ebb6",
   "metadata": {},
   "outputs": [
    {
     "data": {
      "text/plain": [
       "<tensorflow.python.training.tracking.util.CheckpointLoadStatus at 0x225754a8640>"
      ]
     },
     "execution_count": 2,
     "metadata": {},
     "output_type": "execute_result"
    }
   ],
   "source": [
    "lr = kt.HyperParameters()\n",
    "lr.Fixed(name = 'learning rate', value = 1e-3)\n",
    "model = get_model(lr)\n",
    "model.load_weights(best_model_path)"
   ]
  },
  {
   "cell_type": "code",
   "execution_count": 5,
   "id": "f1354d70",
   "metadata": {},
   "outputs": [
    {
     "data": {
      "image/png": "[encoded data removed]",
      "text/plain": [
       "<Figure size 576x360 with 1 Axes>"
      ]
     },
     "metadata": {
      "needs_background": "light"
     },
     "output_type": "display_data"
    }
   ],
   "source": [
    "df = pd.DataFrame(history.history)[['accuracy', 'val_accuracy']]\n",
    "pd.DataFrame(df).plot(figsize=(8,5))\n",
    "plt.xlabel('Epochs')\n",
    "plt.savefig('fullvanillaaccuracy.png')\n",
    "plt.show()"
   ]
  },
  {
   "cell_type": "code",
   "execution_count": 3,
   "id": "525e2083",
   "metadata": {},
   "outputs": [],
   "source": [
    "def get_binary_labels(ds, model):\n",
    "    ''' TF.dataset --> numpy.array\n",
    "    takes tensorflow dataset for data with binary classification and returns array\n",
    "    with an int representing the class for each element'''\n",
    "    labels = np.array([])\n",
    "    preds = np.array([])\n",
    "    for x, y in ds.as_numpy_iterator():\n",
    "        preds = np.append(preds, model.predict(x))\n",
    "        labels = np.append(labels, y)\n",
    "    labels = np.array([int(label) for label in labels])\n",
    "    return preds, labels\n",
    "\n",
    "preds, y = get_binary_labels(test_ds, model)\n"
   ]
  },
  {
   "cell_type": "code",
   "execution_count": 6,
   "id": "3da43c87",
   "metadata": {},
   "outputs": [
    {
     "data": {
      "application/vnd.plotly.v1+json": {
       "config": {
        "plotlyServerURL": "https://plot.ly"
       },
       "data": [
        {
         "hovertemplate": "False Positive Rate=%{x}<br>True Positive Rate=%{y}<extra></extra>",
         "legendgroup": "",
         "line": {
          "color": "#636efa"
         },
         "marker": {
          "symbol": "circle"
         },
         "mode": "lines",
         "name": "",
         "orientation": "v",
         "showlegend": false,
         "stackgroup": "1",
         "type": "scatter",
         "x": [
          0,
          0,
          0,
          0.022222222222222223,
          0.022222222222222223,
          0.044444444444444446,
          0.044444444444444446,
          0.06666666666666667,
          0.06666666666666667,
          0.08888888888888889,
          0.08888888888888889,
          0.1111111111111111,
          0.1111111111111111,
          0.15555555555555556,
          0.15555555555555556,
          0.3111111111111111,
          0.3111111111111111,
          0.3333333333333333,
          0.3333333333333333,
          0.5555555555555556,
          0.5555555555555556,
          0.7555555555555555,
          0.7555555555555555,
          0.8888888888888888,
          0.8888888888888888,
          1
         ],
         "xaxis": "x",
         "y": [
          0,
          0.018867924528301886,
          0.4716981132075472,
          0.4716981132075472,
          0.6981132075471698,
          0.6981132075471698,
          0.7169811320754716,
          0.7169811320754716,
          0.7358490566037735,
          0.7358490566037735,
          0.8113207547169812,
          0.8113207547169812,
          0.8301886792452831,
          0.8301886792452831,
          0.8490566037735849,
          0.8490566037735849,
          0.9245283018867925,
          0.9245283018867925,
          0.9433962264150944,
          0.9433962264150944,
          0.9622641509433962,
          0.9622641509433962,
          0.9811320754716981,
          0.9811320754716981,
          1,
          1
         ],
         "yaxis": "y"
        }
       ],
       "layout": {
        "height": 500,
        "legend": {
         "tracegroupgap": 0
        },
        "shapes": [
         {
          "line": {
           "dash": "dash"
          },
          "type": "line",
          "x0": 0,
          "x1": 1,
          "y0": 0,
          "y1": 1
         }
        ],
        "template": {
         "data": {
          "bar": [
           {
            "error_x": {
             "color": "#2a3f5f"
            },
            "error_y": {
             "color": "#2a3f5f"
            },
            "marker": {
             "line": {
              "color": "#E5ECF6",
              "width": 0.5
             },
             "pattern": {
              "fillmode": "overlay",
              "size": 10,
              "solidity": 0.2
             }
            },
            "type": "bar"
           }
          ],
          "barpolar": [
           {
            "marker": {
             "line": {
              "color": "#E5ECF6",
              "width": 0.5
             },
             "pattern": {
              "fillmode": "overlay",
              "size": 10,
              "solidity": 0.2
             }
            },
            "type": "barpolar"
           }
          ],
          "carpet": [
           {
            "aaxis": {
             "endlinecolor": "#2a3f5f",
             "gridcolor": "white",
             "linecolor": "white",
             "minorgridcolor": "white",
             "startlinecolor": "#2a3f5f"
            },
            "baxis": {
             "endlinecolor": "#2a3f5f",
             "gridcolor": "white",
             "linecolor": "white",
             "minorgridcolor": "white",
             "startlinecolor": "#2a3f5f"
            },
            "type": "carpet"
           }
          ],
          "choropleth": [
           {
            "colorbar": {
             "outlinewidth": 0,
             "ticks": ""
            },
            "type": "choropleth"
           }
          ],
          "contour": [
           {
            "colorbar": {
             "outlinewidth": 0,
             "ticks": ""
            },
            "colorscale": [
             [
              0,
              "#0d0887"
             ],
             [
              0.1111111111111111,
              "#46039f"
             ],
             [
              0.2222222222222222,
              "#7201a8"
             ],
             [
              0.3333333333333333,
              "#9c179e"
             ],
             [
              0.4444444444444444,
              "#bd3786"
             ],
             [
              0.5555555555555556,
              "#d8576b"
             ],
             [
              0.6666666666666666,
              "#ed7953"
             ],
             [
              0.7777777777777778,
              "#fb9f3a"
             ],
             [
              0.8888888888888888,
              "#fdca26"
             ],
             [
              1,
              "#f0f921"
             ]
            ],
            "type": "contour"
           }
          ],
          "contourcarpet": [
           {
            "colorbar": {
             "outlinewidth": 0,
             "ticks": ""
            },
            "type": "contourcarpet"
           }
          ],
          "heatmap": [
           {
            "colorbar": {
             "outlinewidth": 0,
             "ticks": ""
            },
            "colorscale": [
             [
              0,
              "#0d0887"
             ],
             [
              0.1111111111111111,
              "#46039f"
             ],
             [
              0.2222222222222222,
              "#7201a8"
             ],
             [
              0.3333333333333333,
              "#9c179e"
             ],
             [
              0.4444444444444444,
              "#bd3786"
             ],
             [
              0.5555555555555556,
              "#d8576b"
             ],
             [
              0.6666666666666666,
              "#ed7953"
             ],
             [
              0.7777777777777778,
              "#fb9f3a"
             ],
             [
              0.8888888888888888,
              "#fdca26"
             ],
             [
              1,
              "#f0f921"
             ]
            ],
            "type": "heatmap"
           }
          ],
          "heatmapgl": [
           {
            "colorbar": {
             "outlinewidth": 0,
             "ticks": ""
            },
            "colorscale": [
             [
              0,
              "#0d0887"
             ],
             [
              0.1111111111111111,
              "#46039f"
             ],
             [
              0.2222222222222222,
              "#7201a8"
             ],
             [
              0.3333333333333333,
              "#9c179e"
             ],
             [
              0.4444444444444444,
              "#bd3786"
             ],
             [
              0.5555555555555556,
              "#d8576b"
             ],
             [
              0.6666666666666666,
              "#ed7953"
             ],
             [
              0.7777777777777778,
              "#fb9f3a"
             ],
             [
              0.8888888888888888,
              "#fdca26"
             ],
             [
              1,
              "#f0f921"
             ]
            ],
            "type": "heatmapgl"
           }
          ],
          "histogram": [
           {
            "marker": {
             "pattern": {
              "fillmode": "overlay",
              "size": 10,
              "solidity": 0.2
             }
            },
            "type": "histogram"
           }
          ],
          "histogram2d": [
           {
            "colorbar": {
             "outlinewidth": 0,
             "ticks": ""
            },
            "colorscale": [
             [
              0,
              "#0d0887"
             ],
             [
              0.1111111111111111,
              "#46039f"
             ],
             [
              0.2222222222222222,
              "#7201a8"
             ],
             [
              0.3333333333333333,
              "#9c179e"
             ],
             [
              0.4444444444444444,
              "#bd3786"
             ],
             [
              0.5555555555555556,
              "#d8576b"
             ],
             [
              0.6666666666666666,
              "#ed7953"
             ],
             [
              0.7777777777777778,
              "#fb9f3a"
             ],
             [
              0.8888888888888888,
              "#fdca26"
             ],
             [
              1,
              "#f0f921"
             ]
            ],
            "type": "histogram2d"
           }
          ],
          "histogram2dcontour": [
           {
            "colorbar": {
             "outlinewidth": 0,
             "ticks": ""
            },
            "colorscale": [
             [
              0,
              "#0d0887"
             ],
             [
              0.1111111111111111,
              "#46039f"
             ],
             [
              0.2222222222222222,
              "#7201a8"
             ],
             [
              0.3333333333333333,
              "#9c179e"
             ],
             [
              0.4444444444444444,
              "#bd3786"
             ],
             [
              0.5555555555555556,
              "#d8576b"
             ],
             [
              0.6666666666666666,
              "#ed7953"
             ],
             [
              0.7777777777777778,
              "#fb9f3a"
             ],
             [
              0.8888888888888888,
              "#fdca26"
             ],
             [
              1,
              "#f0f921"
             ]
            ],
            "type": "histogram2dcontour"
           }
          ],
          "mesh3d": [
           {
            "colorbar": {
             "outlinewidth": 0,
             "ticks": ""
            },
            "type": "mesh3d"
           }
          ],
          "parcoords": [
           {
            "line": {
             "colorbar": {
              "outlinewidth": 0,
              "ticks": ""
             }
            },
            "type": "parcoords"
           }
          ],
          "pie": [
           {
            "automargin": true,
            "type": "pie"
           }
          ],
          "scatter": [
           {
            "marker": {
             "colorbar": {
              "outlinewidth": 0,
              "ticks": ""
             }
            },
            "type": "scatter"
           }
          ],
          "scatter3d": [
           {
            "line": {
             "colorbar": {
              "outlinewidth": 0,
              "ticks": ""
             }
            },
            "marker": {
             "colorbar": {
              "outlinewidth": 0,
              "ticks": ""
             }
            },
            "type": "scatter3d"
           }
          ],
          "scattercarpet": [
           {
            "marker": {
             "colorbar": {
              "outlinewidth": 0,
              "ticks": ""
             }
            },
            "type": "scattercarpet"
           }
          ],
          "scattergeo": [
           {
            "marker": {
             "colorbar": {
              "outlinewidth": 0,
              "ticks": ""
             }
            },
            "type": "scattergeo"
           }
          ],
          "scattergl": [
           {
            "marker": {
             "colorbar": {
              "outlinewidth": 0,
              "ticks": ""
             }
            },
            "type": "scattergl"
           }
          ],
          "scattermapbox": [
           {
            "marker": {
             "colorbar": {
              "outlinewidth": 0,
              "ticks": ""
             }
            },
            "type": "scattermapbox"
           }
          ],
          "scatterpolar": [
           {
            "marker": {
             "colorbar": {
              "outlinewidth": 0,
              "ticks": ""
             }
            },
            "type": "scatterpolar"
           }
          ],
          "scatterpolargl": [
           {
            "marker": {
             "colorbar": {
              "outlinewidth": 0,
              "ticks": ""
             }
            },
            "type": "scatterpolargl"
           }
          ],
          "scatterternary": [
           {
            "marker": {
             "colorbar": {
              "outlinewidth": 0,
              "ticks": ""
             }
            },
            "type": "scatterternary"
           }
          ],
          "surface": [
           {
            "colorbar": {
             "outlinewidth": 0,
             "ticks": ""
            },
            "colorscale": [
             [
              0,
              "#0d0887"
             ],
             [
              0.1111111111111111,
              "#46039f"
             ],
             [
              0.2222222222222222,
              "#7201a8"
             ],
             [
              0.3333333333333333,
              "#9c179e"
             ],
             [
              0.4444444444444444,
              "#bd3786"
             ],
             [
              0.5555555555555556,
              "#d8576b"
             ],
             [
              0.6666666666666666,
              "#ed7953"
             ],
             [
              0.7777777777777778,
              "#fb9f3a"
             ],
             [
              0.8888888888888888,
              "#fdca26"
             ],
             [
              1,
              "#f0f921"
             ]
            ],
            "type": "surface"
           }
          ],
          "table": [
           {
            "cells": {
             "fill": {
              "color": "#EBF0F8"
             },
             "line": {
              "color": "white"
             }
            },
            "header": {
             "fill": {
              "color": "#C8D4E3"
             },
             "line": {
              "color": "white"
             }
            },
            "type": "table"
           }
          ]
         },
         "layout": {
          "annotationdefaults": {
           "arrowcolor": "#2a3f5f",
           "arrowhead": 0,
           "arrowwidth": 1
          },
          "autotypenumbers": "strict",
          "coloraxis": {
           "colorbar": {
            "outlinewidth": 0,
            "ticks": ""
           }
          },
          "colorscale": {
           "diverging": [
            [
             0,
             "#8e0152"
            ],
            [
             0.1,
             "#c51b7d"
            ],
            [
             0.2,
             "#de77ae"
            ],
            [
             0.3,
             "#f1b6da"
            ],
            [
             0.4,
             "#fde0ef"
            ],
            [
             0.5,
             "#f7f7f7"
            ],
            [
             0.6,
             "#e6f5d0"
            ],
            [
             0.7,
             "#b8e186"
            ],
            [
             0.8,
             "#7fbc41"
            ],
            [
             0.9,
             "#4d9221"
            ],
            [
             1,
             "#276419"
            ]
           ],
           "sequential": [
            [
             0,
             "#0d0887"
            ],
            [
             0.1111111111111111,
             "#46039f"
            ],
            [
             0.2222222222222222,
             "#7201a8"
            ],
            [
             0.3333333333333333,
             "#9c179e"
            ],
            [
             0.4444444444444444,
             "#bd3786"
            ],
            [
             0.5555555555555556,
             "#d8576b"
            ],
            [
             0.6666666666666666,
             "#ed7953"
            ],
            [
             0.7777777777777778,
             "#fb9f3a"
            ],
            [
             0.8888888888888888,
             "#fdca26"
            ],
            [
             1,
             "#f0f921"
            ]
           ],
           "sequentialminus": [
            [
             0,
             "#0d0887"
            ],
            [
             0.1111111111111111,
             "#46039f"
            ],
            [
             0.2222222222222222,
             "#7201a8"
            ],
            [
             0.3333333333333333,
             "#9c179e"
            ],
            [
             0.4444444444444444,
             "#bd3786"
            ],
            [
             0.5555555555555556,
             "#d8576b"
            ],
            [
             0.6666666666666666,
             "#ed7953"
            ],
            [
             0.7777777777777778,
             "#fb9f3a"
            ],
            [
             0.8888888888888888,
             "#fdca26"
            ],
            [
             1,
             "#f0f921"
            ]
           ]
          },
          "colorway": [
           "#636efa",
           "#EF553B",
           "#00cc96",
           "#ab63fa",
           "#FFA15A",
           "#19d3f3",
           "#FF6692",
           "#B6E880",
           "#FF97FF",
           "#FECB52"
          ],
          "font": {
           "color": "#2a3f5f"
          },
          "geo": {
           "bgcolor": "white",
           "lakecolor": "white",
           "landcolor": "#E5ECF6",
           "showlakes": true,
           "showland": true,
           "subunitcolor": "white"
          },
          "hoverlabel": {
           "align": "left"
          },
          "hovermode": "closest",
          "mapbox": {
           "style": "light"
          },
          "paper_bgcolor": "white",
          "plot_bgcolor": "#E5ECF6",
          "polar": {
           "angularaxis": {
            "gridcolor": "white",
            "linecolor": "white",
            "ticks": ""
           },
           "bgcolor": "#E5ECF6",
           "radialaxis": {
            "gridcolor": "white",
            "linecolor": "white",
            "ticks": ""
           }
          },
          "scene": {
           "xaxis": {
            "backgroundcolor": "#E5ECF6",
            "gridcolor": "white",
            "gridwidth": 2,
            "linecolor": "white",
            "showbackground": true,
            "ticks": "",
            "zerolinecolor": "white"
           },
           "yaxis": {
            "backgroundcolor": "#E5ECF6",
            "gridcolor": "white",
            "gridwidth": 2,
            "linecolor": "white",
            "showbackground": true,
            "ticks": "",
            "zerolinecolor": "white"
           },
           "zaxis": {
            "backgroundcolor": "#E5ECF6",
            "gridcolor": "white",
            "gridwidth": 2,
            "linecolor": "white",
            "showbackground": true,
            "ticks": "",
            "zerolinecolor": "white"
           }
          },
          "shapedefaults": {
           "line": {
            "color": "#2a3f5f"
           }
          },
          "ternary": {
           "aaxis": {
            "gridcolor": "white",
            "linecolor": "white",
            "ticks": ""
           },
           "baxis": {
            "gridcolor": "white",
            "linecolor": "white",
            "ticks": ""
           },
           "bgcolor": "#E5ECF6",
           "caxis": {
            "gridcolor": "white",
            "linecolor": "white",
            "ticks": ""
           }
          },
          "title": {
           "x": 0.05
          },
          "xaxis": {
           "automargin": true,
           "gridcolor": "white",
           "linecolor": "white",
           "ticks": "",
           "title": {
            "standoff": 15
           },
           "zerolinecolor": "white",
           "zerolinewidth": 2
          },
          "yaxis": {
           "automargin": true,
           "gridcolor": "white",
           "linecolor": "white",
           "ticks": "",
           "title": {
            "standoff": 15
           },
           "zerolinecolor": "white",
           "zerolinewidth": 2
          }
         }
        },
        "title": {
         "text": "ROC Curve (AUC=0.9099)"
        },
        "width": 700,
        "xaxis": {
         "anchor": "y",
         "constrain": "domain",
         "domain": [
          0,
          1
         ],
         "title": {
          "text": "False Positive Rate"
         }
        },
        "yaxis": {
         "anchor": "x",
         "domain": [
          0,
          1
         ],
         "scaleanchor": "x",
         "scaleratio": 1,
         "title": {
          "text": "True Positive Rate"
         }
        }
       }
      }
     },
     "metadata": {},
     "output_type": "display_data"
    }
   ],
   "source": [
    "import matplotlib.pyplot as plt\n",
    "import seaborn as sns\n",
    "from sklearn.metrics import confusion_matrix, classification_report, auc,  roc_curve\n",
    "import plotly.express as px\n",
    "\n",
    "\n",
    "fpr, tpr, thresholds = roc_curve(y, preds)\n",
    "fig = px.area(\n",
    "    x=fpr, y=tpr,\n",
    "    title=f'ROC Curve (AUC={auc(fpr, tpr):.4f})',\n",
    "    labels=dict(x='False Positive Rate', y='True Positive Rate'),\n",
    "    width=700, height=500\n",
    ")\n",
    "fig.add_shape(\n",
    "    type='line', line=dict(dash='dash'),\n",
    "    x0=0, x1=1, y0=0, y1=1\n",
    ")\n",
    "\n",
    "fig.update_yaxes(scaleanchor=\"x\", scaleratio=1)\n",
    "fig.update_xaxes(constrain='domain')\n",
    "fig.show()\n"
   ]
  },
  {
   "cell_type": "code",
   "execution_count": 7,
   "id": "0328b66d",
   "metadata": {},
   "outputs": [],
   "source": [
    "dists = np.array([(np.sqrt((0 - x)**2 + (1-y)**2)) for x, y in zip(fpr, tpr)])\n",
    "cutoff_idx = dists.argmin()\n",
    "cutoff = thresholds[cutoff_idx]\n",
    "\n",
    "#Selecionando cutoff"
   ]
  },
  {
   "cell_type": "code",
   "execution_count": 13,
   "id": "21fcbec2",
   "metadata": {},
   "outputs": [
    {
     "data": {
      "image/png": "[encoded data removed]",
      "text/plain": [
       "<Figure size 432x288 with 2 Axes>"
      ]
     },
     "metadata": {
      "needs_background": "light"
     },
     "output_type": "display_data"
    },
    {
     "data": {
      "text/plain": [
       "<Figure size 720x504 with 0 Axes>"
      ]
     },
     "metadata": {},
     "output_type": "display_data"
    },
    {
     "name": "stdout",
     "output_type": "stream",
     "text": [
      "              precision    recall  f1-score   support\n",
      "\n",
      "           0       0.82      0.89      0.85        45\n",
      "           1       0.90      0.83      0.86        53\n",
      "\n",
      "    accuracy                           0.86        98\n",
      "   macro avg       0.86      0.86      0.86        98\n",
      "weighted avg       0.86      0.86      0.86        98\n",
      "\n"
     ]
    }
   ],
   "source": [
    "%matplotlib inline\n",
    "preds2 = np.array([1 if x >= cutoff else 0 for x in preds])\n",
    "cm = confusion_matrix(y, preds2)\n",
    "#turn this into a dataframe\n",
    "matrix_df = pd.DataFrame(cm)\n",
    "#plot the result\n",
    "ax = plt.axes()\n",
    "sns.set(font_scale=1.3)\n",
    "plt.figure(figsize=(10,7))\n",
    "sns.heatmap(matrix_df, annot=True, fmt=\"g\", ax=ax, cmap=\"magma\")\n",
    "#set axis titles\n",
    "ax.set_title('Unaltered Images Model')\n",
    "ax.set_xlabel(\"Predicted label\", fontsize =15)\n",
    "ax.set_ylabel(\"True Label\", fontsize=15)\n",
    "plt.savefig('fullvanillacm.pdf')\n",
    "plt.show()\n",
    "print(classification_report(y, preds2))"
   ]
  },
  {
   "cell_type": "code",
   "execution_count": 16,
   "id": "36a50038",
   "metadata": {},
   "outputs": [
    {
     "name": "stdout",
     "output_type": "stream",
     "text": [
      "\\begin{tabular}{lrrrr}\n",
      "\\toprule\n",
      "{} &  precision &    recall &  f1-score &    support \\\\\n",
      "\\midrule\n",
      "0            &   0.816327 &  0.888889 &  0.851064 &  45.000000 \\\\\n",
      "1            &   0.897959 &  0.830189 &  0.862745 &  53.000000 \\\\\n",
      "accuracy     &   0.857143 &  0.857143 &  0.857143 &   0.857143 \\\\\n",
      "macro avg    &   0.857143 &  0.859539 &  0.856904 &  98.000000 \\\\\n",
      "weighted avg &   0.860475 &  0.857143 &  0.857381 &  98.000000 \\\\\n",
      "\\bottomrule\n",
      "\\end{tabular}\n",
      "\n"
     ]
    }
   ],
   "source": [
    "print(pd.DataFrame(classification_report(y, preds2, output_dict=True)).transpose().to_latex())"
   ]
  },
  {
   "cell_type": "markdown",
   "id": "624e32e1",
   "metadata": {},
   "source": [
    "To Do:\n",
    "- Gradcam\n"
   ]
  }
 ],
 "metadata": {
  "kernelspec": {
   "display_name": "Python 3 (ipykernel)",
   "language": "python",
   "name": "python3"
  },
  "language_info": {
   "codemirror_mode": {
    "name": "ipython",
    "version": 3
   },
   "file_extension": ".py",
   "mimetype": "text/x-python",
   "name": "python",
   "nbconvert_exporter": "python",
   "pygments_lexer": "ipython3",
   "version": "3.9.4"
  }
 },
 "nbformat": 4,
 "nbformat_minor": 5
}
