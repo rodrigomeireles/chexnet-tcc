{
 "cells": [
  {
   "cell_type": "code",
   "execution_count": 2,
   "metadata": {},
   "outputs": [
    {
     "name": "stdout",
     "output_type": "stream",
     "text": [
      "Found 703 files belonging to 2 classes.\n",
      "Using 605 files for training.\n",
      "Found 703 files belonging to 2 classes.\n",
      "Using 98 files for validation.\n"
     ]
    }
   ],
   "source": [
    "import tensorflow as tf \n",
    "import numpy as np\n",
    "import pandas as pd\n",
    "\n",
    "seed = 13\n",
    "batch_size = 16 \n",
    "img_height = 224 \n",
    "img_width = 224 \n",
    "img_size = (img_height, img_width)\n",
    "size = (img_height, img_width)\n",
    "data_dir = 'D:\\Downloads\\cxr_tcc_cropped'\n",
    "weight_path = 'D:\\Downloads\\\\brucechou1983_CheXNet_Keras_0.3.0_weights.h5'\n",
    "best_model_path = 'D:\\Documentos\\projeto convs\\models\\cropped'\n",
    "\n",
    "\n",
    "## Split do dataset.\n",
    "\n",
    "full_train_ds = tf.keras.preprocessing.image_dataset_from_directory(\n",
    "    data_dir,\n",
    "    validation_split=0.14,\n",
    "    subset=\"training\",\n",
    "    seed= seed,\n",
    "    image_size= img_size,\n",
    "    batch_size = batch_size\n",
    ")\n",
    "test_ds = tf.keras.preprocessing.image_dataset_from_directory(\n",
    "    data_dir,\n",
    "    validation_split=0.14, #98 imagens pra teste\n",
    "    subset=\"validation\",\n",
    "    seed= seed,\n",
    "    image_size= img_size,\n",
    "    batch_size = batch_size\n",
    ")\n",
    "\n",
    "full_train_ds.shuffle(1000, reshuffle_each_iteration = False, seed = seed) #embaralha e desativa shuffle pois usar o map que virá depois itera o dataset, o reshuffle pode causar vazamento de dados\n",
    "\n",
    "def recover(x, y):\n",
    "    return y\n",
    "\n",
    "def is_val(x, y):\n",
    "    return x%6 == 0 # 1/6 do dataset ~ 100 imagens pra validação\n",
    "\n",
    "def is_train(x,y):\n",
    "    return not is_val(x,y)\n",
    "\n",
    "val_ds = full_train_ds.enumerate().filter(is_val).map(recover)\n",
    "train_ds = full_train_ds.enumerate().filter(is_train).map(recover)\n",
    "\n",
    "full_train_ds.shuffle(1000, reshuffle_each_iteration = True, seed = seed) #reseta o shuffle para acontecer o shuffle entre épocas do treino\n",
    "\n",
    "\n",
    "import keras\n",
    "from keras import layers\n",
    "import keras_tuner as kt\n",
    "\n",
    "channels = tuple([3])\n",
    "shape = size + channels\n",
    "\n",
    "def get_model(hp):\n",
    "    inputs = keras.Input(shape = shape)\n",
    "    x = layers.RandomRotation(0.05)(inputs) #tentar rotacionar menos\n",
    "    x = layers.Rescaling(scale=1./127.5, offset=-1)(x) #normalização \"manual\"\n",
    "\n",
    "    chexnet = tf.keras.applications.DenseNet121(weights= None,\n",
    "                                                include_top = False, \n",
    "                                                input_tensor = x,\n",
    "                                                input_shape = shape\n",
    "                                               )\n",
    "\n",
    "    out = tf.keras.layers.Dense(14, activation='sigmoid')(chexnet.output)\n",
    "    model = tf.keras.Model(inputs, out)\n",
    "    \n",
    "    for layer in chexnet.layers:\n",
    "        layer.trainable = False\n",
    "    model.load_weights(weight_path)\n",
    "    \n",
    "    x =  layers.GlobalAveragePooling2D()(chexnet.output)\n",
    "    preds = layers.Dense(units = 1, activation = 'sigmoid', name='prediction')(x)\n",
    "    model = tf.keras.Model(model.input, preds)\n",
    "    #Tune LR\n",
    "    hp_lr = hp.Choice('learning_rate', values = [1e-2, 1e-3, 1e-4])\n",
    "    opt = tf.keras.optimizers.SGD(learning_rate = hp_lr)\n",
    "    model.compile(optimizer = opt, loss = 'binary_crossentropy', metrics = ['accuracy'])        \n",
    "    return model\n",
    "\n",
    "tuner = kt.RandomSearch(get_model, objective = kt.Objective('val_accuracy', direction = 'max'), max_trials = 3  , seed = 1337, overwrite = True)\n",
    "\n",
    "from keras.callbacks import ModelCheckpoint, EarlyStopping, ReduceLROnPlateau\n",
    "\n",
    "#Callbacks\n",
    "checkpoint = ModelCheckpoint(best_model_path, monitor='val_loss', verbose=1, \n",
    "                                save_best_only=True, mode='min', save_weights_only = True)\n",
    "\n",
    "reduceLROnPlat = ReduceLROnPlateau(monitor='val_loss', factor=0.5, \n",
    "                                patience=3, \n",
    "                                verbose=1, mode='min', min_delta=0.0001, cooldown=2, min_lr=1e-6)\n",
    "early = EarlyStopping(monitor=\"val_loss\", \n",
    "                    mode=\"min\", \n",
    "                    patience=15) \n",
    "\n",
    "callbacks = [checkpoint, early, reduceLROnPlat]"
   ]
  },
  {
   "cell_type": "code",
   "execution_count": 2,
   "metadata": {},
   "outputs": [
    {
     "name": "stdout",
     "output_type": "stream",
     "text": [
      "Trial 3 Complete [00h 11m 09s]\n",
      "val_accuracy: 0.8303571343421936\n",
      "\n",
      "Best val_accuracy So Far: 0.8303571343421936\n",
      "Total elapsed time: 00h 29m 36s\n",
      "INFO:tensorflow:Oracle triggered exit\n",
      "Best learning rate was 0.001.\n"
     ]
    }
   ],
   "source": [
    "tuner.search(train_ds, batch_size = batch_size, epochs = 100, validation_data = val_ds, callbacks = callbacks)\n",
    "best_hps = tuner.get_best_hyperparameters(5)\n",
    "print(f\"Best learning rate was {best_hps[1].get('learning_rate')}.\")\n",
    "model = get_model(best_hps[0])"
   ]
  },
  {
   "cell_type": "markdown",
   "metadata": {},
   "source": [
    "### Full Training"
   ]
  },
  {
   "cell_type": "code",
   "execution_count": 3,
   "metadata": {},
   "outputs": [
    {
     "name": "stdout",
     "output_type": "stream",
     "text": [
      "Epoch 1/100\n",
      "\n",
      "Epoch 00001: val_loss improved from inf to 0.66256, saving model to D:\\Documentos\\projeto convs\\models\\cropped\n",
      "38/38 - 45s - loss: 0.6758 - accuracy: 0.5603 - val_loss: 0.6626 - val_accuracy: 0.5816 - lr: 0.0100 - 45s/epoch - 1s/step\n",
      "Epoch 2/100\n",
      "\n",
      "Epoch 00002: val_loss improved from 0.66256 to 0.64194, saving model to D:\\Documentos\\projeto convs\\models\\cropped\n",
      "38/38 - 9s - loss: 0.6650 - accuracy: 0.6017 - val_loss: 0.6419 - val_accuracy: 0.6224 - lr: 0.0100 - 9s/epoch - 240ms/step\n",
      "Epoch 3/100\n",
      "\n",
      "Epoch 00003: val_loss improved from 0.64194 to 0.62968, saving model to D:\\Documentos\\projeto convs\\models\\cropped\n",
      "38/38 - 9s - loss: 0.6521 - accuracy: 0.6661 - val_loss: 0.6297 - val_accuracy: 0.7041 - lr: 0.0100 - 9s/epoch - 237ms/step\n",
      "Epoch 4/100\n",
      "\n",
      "Epoch 00004: val_loss improved from 0.62968 to 0.61980, saving model to D:\\Documentos\\projeto convs\\models\\cropped\n",
      "38/38 - 9s - loss: 0.6439 - accuracy: 0.6661 - val_loss: 0.6198 - val_accuracy: 0.7347 - lr: 0.0100 - 9s/epoch - 236ms/step\n",
      "Epoch 5/100\n",
      "\n",
      "Epoch 00005: val_loss improved from 0.61980 to 0.60661, saving model to D:\\Documentos\\projeto convs\\models\\cropped\n",
      "38/38 - 9s - loss: 0.6340 - accuracy: 0.6645 - val_loss: 0.6066 - val_accuracy: 0.7347 - lr: 0.0100 - 9s/epoch - 239ms/step\n",
      "Epoch 6/100\n",
      "\n",
      "Epoch 00006: val_loss did not improve from 0.60661\n",
      "38/38 - 8s - loss: 0.6298 - accuracy: 0.6777 - val_loss: 0.6130 - val_accuracy: 0.6837 - lr: 0.0100 - 8s/epoch - 218ms/step\n",
      "Epoch 7/100\n",
      "\n",
      "Epoch 00007: val_loss improved from 0.60661 to 0.59209, saving model to D:\\Documentos\\projeto convs\\models\\cropped\n",
      "38/38 - 9s - loss: 0.6118 - accuracy: 0.7190 - val_loss: 0.5921 - val_accuracy: 0.7245 - lr: 0.0100 - 9s/epoch - 238ms/step\n",
      "Epoch 8/100\n",
      "\n",
      "Epoch 00008: val_loss improved from 0.59209 to 0.59104, saving model to D:\\Documentos\\projeto convs\\models\\cropped\n",
      "38/38 - 9s - loss: 0.6041 - accuracy: 0.6942 - val_loss: 0.5910 - val_accuracy: 0.6939 - lr: 0.0100 - 9s/epoch - 237ms/step\n",
      "Epoch 9/100\n",
      "\n",
      "Epoch 00009: val_loss did not improve from 0.59104\n",
      "38/38 - 8s - loss: 0.6050 - accuracy: 0.7058 - val_loss: 0.6009 - val_accuracy: 0.6531 - lr: 0.0100 - 8s/epoch - 219ms/step\n",
      "Epoch 10/100\n",
      "\n",
      "Epoch 00010: val_loss did not improve from 0.59104\n",
      "38/38 - 8s - loss: 0.5932 - accuracy: 0.7289 - val_loss: 0.5912 - val_accuracy: 0.6837 - lr: 0.0100 - 8s/epoch - 220ms/step\n",
      "Epoch 11/100\n",
      "\n",
      "Epoch 00011: val_loss improved from 0.59104 to 0.56629, saving model to D:\\Documentos\\projeto convs\\models\\cropped\n",
      "38/38 - 9s - loss: 0.5942 - accuracy: 0.6975 - val_loss: 0.5663 - val_accuracy: 0.7347 - lr: 0.0100 - 9s/epoch - 237ms/step\n",
      "Epoch 12/100\n",
      "\n",
      "Epoch 00012: val_loss did not improve from 0.56629\n",
      "38/38 - 8s - loss: 0.5847 - accuracy: 0.7074 - val_loss: 0.5666 - val_accuracy: 0.7041 - lr: 0.0100 - 8s/epoch - 218ms/step\n",
      "Epoch 13/100\n",
      "\n",
      "Epoch 00013: val_loss improved from 0.56629 to 0.55737, saving model to D:\\Documentos\\projeto convs\\models\\cropped\n",
      "38/38 - 9s - loss: 0.5818 - accuracy: 0.7008 - val_loss: 0.5574 - val_accuracy: 0.7449 - lr: 0.0100 - 9s/epoch - 237ms/step\n",
      "Epoch 14/100\n",
      "\n",
      "Epoch 00014: val_loss did not improve from 0.55737\n",
      "38/38 - 8s - loss: 0.5803 - accuracy: 0.6992 - val_loss: 0.5646 - val_accuracy: 0.7143 - lr: 0.0100 - 8s/epoch - 218ms/step\n",
      "Epoch 15/100\n",
      "\n",
      "Epoch 00015: val_loss did not improve from 0.55737\n",
      "38/38 - 8s - loss: 0.5791 - accuracy: 0.7223 - val_loss: 0.5579 - val_accuracy: 0.7041 - lr: 0.0100 - 8s/epoch - 220ms/step\n",
      "Epoch 16/100\n",
      "\n",
      "Epoch 00016: val_loss improved from 0.55737 to 0.55217, saving model to D:\\Documentos\\projeto convs\\models\\cropped\n",
      "38/38 - 9s - loss: 0.5694 - accuracy: 0.7124 - val_loss: 0.5522 - val_accuracy: 0.7041 - lr: 0.0100 - 9s/epoch - 240ms/step\n",
      "Epoch 17/100\n",
      "\n",
      "Epoch 00017: val_loss improved from 0.55217 to 0.54308, saving model to D:\\Documentos\\projeto convs\\models\\cropped\n",
      "38/38 - 9s - loss: 0.5648 - accuracy: 0.7306 - val_loss: 0.5431 - val_accuracy: 0.7347 - lr: 0.0100 - 9s/epoch - 241ms/step\n",
      "Epoch 18/100\n",
      "\n",
      "Epoch 00018: val_loss did not improve from 0.54308\n",
      "38/38 - 8s - loss: 0.5565 - accuracy: 0.7372 - val_loss: 0.5486 - val_accuracy: 0.7041 - lr: 0.0100 - 8s/epoch - 218ms/step\n",
      "Epoch 19/100\n",
      "\n",
      "Epoch 00019: val_loss did not improve from 0.54308\n",
      "38/38 - 8s - loss: 0.5712 - accuracy: 0.7322 - val_loss: 0.5463 - val_accuracy: 0.7041 - lr: 0.0100 - 8s/epoch - 216ms/step\n",
      "Epoch 20/100\n",
      "\n",
      "Epoch 00020: val_loss improved from 0.54308 to 0.53705, saving model to D:\\Documentos\\projeto convs\\models\\cropped\n",
      "38/38 - 9s - loss: 0.5629 - accuracy: 0.7124 - val_loss: 0.5371 - val_accuracy: 0.7143 - lr: 0.0100 - 9s/epoch - 237ms/step\n",
      "Epoch 21/100\n",
      "\n",
      "Epoch 00021: val_loss did not improve from 0.53705\n",
      "38/38 - 8s - loss: 0.5663 - accuracy: 0.7074 - val_loss: 0.5377 - val_accuracy: 0.6837 - lr: 0.0100 - 8s/epoch - 219ms/step\n",
      "Epoch 22/100\n",
      "\n",
      "Epoch 00022: val_loss improved from 0.53705 to 0.53183, saving model to D:\\Documentos\\projeto convs\\models\\cropped\n",
      "38/38 - 9s - loss: 0.5718 - accuracy: 0.7124 - val_loss: 0.5318 - val_accuracy: 0.7245 - lr: 0.0100 - 9s/epoch - 238ms/step\n",
      "Epoch 23/100\n",
      "\n",
      "Epoch 00023: val_loss did not improve from 0.53183\n",
      "38/38 - 8s - loss: 0.5547 - accuracy: 0.7207 - val_loss: 0.5329 - val_accuracy: 0.7143 - lr: 0.0100 - 8s/epoch - 220ms/step\n",
      "Epoch 24/100\n",
      "\n",
      "Epoch 00024: val_loss did not improve from 0.53183\n",
      "38/38 - 8s - loss: 0.5519 - accuracy: 0.7091 - val_loss: 0.5399 - val_accuracy: 0.7143 - lr: 0.0100 - 8s/epoch - 221ms/step\n",
      "Epoch 25/100\n",
      "\n",
      "Epoch 00025: val_loss did not improve from 0.53183\n",
      "\n",
      "Epoch 00025: ReduceLROnPlateau reducing learning rate to 0.004999999888241291.\n",
      "38/38 - 8s - loss: 0.5453 - accuracy: 0.7537 - val_loss: 0.5400 - val_accuracy: 0.7143 - lr: 0.0100 - 8s/epoch - 222ms/step\n",
      "Epoch 26/100\n",
      "\n",
      "Epoch 00026: val_loss improved from 0.53183 to 0.53108, saving model to D:\\Documentos\\projeto convs\\models\\cropped\n",
      "38/38 - 9s - loss: 0.5453 - accuracy: 0.7223 - val_loss: 0.5311 - val_accuracy: 0.7041 - lr: 0.0050 - 9s/epoch - 237ms/step\n",
      "Epoch 27/100\n",
      "\n",
      "Epoch 00027: val_loss did not improve from 0.53108\n",
      "38/38 - 8s - loss: 0.5546 - accuracy: 0.7207 - val_loss: 0.5366 - val_accuracy: 0.7143 - lr: 0.0050 - 8s/epoch - 219ms/step\n",
      "Epoch 28/100\n",
      "\n",
      "Epoch 00028: val_loss improved from 0.53108 to 0.52733, saving model to D:\\Documentos\\projeto convs\\models\\cropped\n",
      "38/38 - 9s - loss: 0.5484 - accuracy: 0.7223 - val_loss: 0.5273 - val_accuracy: 0.6939 - lr: 0.0050 - 9s/epoch - 239ms/step\n",
      "Epoch 29/100\n",
      "\n",
      "Epoch 00029: val_loss did not improve from 0.52733\n",
      "38/38 - 8s - loss: 0.5507 - accuracy: 0.7223 - val_loss: 0.5406 - val_accuracy: 0.7143 - lr: 0.0050 - 8s/epoch - 223ms/step\n",
      "Epoch 30/100\n",
      "\n",
      "Epoch 00030: val_loss did not improve from 0.52733\n",
      "38/38 - 8s - loss: 0.5309 - accuracy: 0.7636 - val_loss: 0.5308 - val_accuracy: 0.7245 - lr: 0.0050 - 8s/epoch - 218ms/step\n",
      "Epoch 31/100\n",
      "\n",
      "Epoch 00031: val_loss improved from 0.52733 to 0.52571, saving model to D:\\Documentos\\projeto convs\\models\\cropped\n",
      "38/38 - 9s - loss: 0.5484 - accuracy: 0.7455 - val_loss: 0.5257 - val_accuracy: 0.7041 - lr: 0.0050 - 9s/epoch - 238ms/step\n",
      "Epoch 32/100\n",
      "\n",
      "Epoch 00032: val_loss did not improve from 0.52571\n",
      "38/38 - 8s - loss: 0.5381 - accuracy: 0.7587 - val_loss: 0.5264 - val_accuracy: 0.7041 - lr: 0.0050 - 8s/epoch - 219ms/step\n",
      "Epoch 33/100\n",
      "\n",
      "Epoch 00033: val_loss improved from 0.52571 to 0.52172, saving model to D:\\Documentos\\projeto convs\\models\\cropped\n",
      "38/38 - 9s - loss: 0.5282 - accuracy: 0.7570 - val_loss: 0.5217 - val_accuracy: 0.7041 - lr: 0.0050 - 9s/epoch - 237ms/step\n",
      "Epoch 34/100\n",
      "\n",
      "Epoch 00034: val_loss improved from 0.52172 to 0.51850, saving model to D:\\Documentos\\projeto convs\\models\\cropped\n",
      "38/38 - 9s - loss: 0.5437 - accuracy: 0.7289 - val_loss: 0.5185 - val_accuracy: 0.7143 - lr: 0.0050 - 9s/epoch - 237ms/step\n",
      "Epoch 35/100\n",
      "\n",
      "Epoch 00035: val_loss improved from 0.51850 to 0.51810, saving model to D:\\Documentos\\projeto convs\\models\\cropped\n",
      "38/38 - 9s - loss: 0.5461 - accuracy: 0.7306 - val_loss: 0.5181 - val_accuracy: 0.7143 - lr: 0.0050 - 9s/epoch - 236ms/step\n",
      "Epoch 36/100\n",
      "\n",
      "Epoch 00036: val_loss did not improve from 0.51810\n",
      "38/38 - 8s - loss: 0.5382 - accuracy: 0.7471 - val_loss: 0.5272 - val_accuracy: 0.7245 - lr: 0.0050 - 8s/epoch - 220ms/step\n",
      "Epoch 37/100\n",
      "\n",
      "Epoch 00037: val_loss did not improve from 0.51810\n",
      "38/38 - 8s - loss: 0.5358 - accuracy: 0.7603 - val_loss: 0.5226 - val_accuracy: 0.7143 - lr: 0.0050 - 8s/epoch - 223ms/step\n",
      "Epoch 38/100\n",
      "\n",
      "Epoch 00038: val_loss improved from 0.51810 to 0.51516, saving model to D:\\Documentos\\projeto convs\\models\\cropped\n",
      "38/38 - 9s - loss: 0.5383 - accuracy: 0.7339 - val_loss: 0.5152 - val_accuracy: 0.7143 - lr: 0.0050 - 9s/epoch - 237ms/step\n",
      "Epoch 39/100\n",
      "\n",
      "Epoch 00039: val_loss improved from 0.51516 to 0.51453, saving model to D:\\Documentos\\projeto convs\\models\\cropped\n",
      "38/38 - 9s - loss: 0.5419 - accuracy: 0.7140 - val_loss: 0.5145 - val_accuracy: 0.7041 - lr: 0.0050 - 9s/epoch - 238ms/step\n",
      "Epoch 40/100\n",
      "\n",
      "Epoch 00040: val_loss did not improve from 0.51453\n",
      "38/38 - 8s - loss: 0.5374 - accuracy: 0.7322 - val_loss: 0.5159 - val_accuracy: 0.7041 - lr: 0.0050 - 8s/epoch - 218ms/step\n",
      "Epoch 41/100\n",
      "\n",
      "Epoch 00041: val_loss did not improve from 0.51453\n",
      "38/38 - 8s - loss: 0.5341 - accuracy: 0.7273 - val_loss: 0.5169 - val_accuracy: 0.7143 - lr: 0.0050 - 8s/epoch - 220ms/step\n",
      "Epoch 42/100\n",
      "\n",
      "Epoch 00042: val_loss improved from 0.51453 to 0.51262, saving model to D:\\Documentos\\projeto convs\\models\\cropped\n",
      "38/38 - 9s - loss: 0.5365 - accuracy: 0.7388 - val_loss: 0.5126 - val_accuracy: 0.7143 - lr: 0.0050 - 9s/epoch - 238ms/step\n",
      "Epoch 43/100\n",
      "\n",
      "Epoch 00043: val_loss did not improve from 0.51262\n",
      "38/38 - 8s - loss: 0.5310 - accuracy: 0.7488 - val_loss: 0.5149 - val_accuracy: 0.7041 - lr: 0.0050 - 8s/epoch - 219ms/step\n",
      "Epoch 44/100\n",
      "\n",
      "Epoch 00044: val_loss improved from 0.51262 to 0.51149, saving model to D:\\Documentos\\projeto convs\\models\\cropped\n",
      "38/38 - 9s - loss: 0.5300 - accuracy: 0.7438 - val_loss: 0.5115 - val_accuracy: 0.7143 - lr: 0.0050 - 9s/epoch - 237ms/step\n",
      "Epoch 45/100\n",
      "\n",
      "Epoch 00045: val_loss improved from 0.51149 to 0.50991, saving model to D:\\Documentos\\projeto convs\\models\\cropped\n",
      "38/38 - 9s - loss: 0.5288 - accuracy: 0.7405 - val_loss: 0.5099 - val_accuracy: 0.7143 - lr: 0.0050 - 9s/epoch - 239ms/step\n",
      "Epoch 46/100\n",
      "\n",
      "Epoch 00046: val_loss improved from 0.50991 to 0.50969, saving model to D:\\Documentos\\projeto convs\\models\\cropped\n",
      "38/38 - 9s - loss: 0.5380 - accuracy: 0.7322 - val_loss: 0.5097 - val_accuracy: 0.7143 - lr: 0.0050 - 9s/epoch - 242ms/step\n",
      "Epoch 47/100\n",
      "\n",
      "Epoch 00047: val_loss improved from 0.50969 to 0.50839, saving model to D:\\Documentos\\projeto convs\\models\\cropped\n",
      "38/38 - 9s - loss: 0.5259 - accuracy: 0.7504 - val_loss: 0.5084 - val_accuracy: 0.7143 - lr: 0.0050 - 9s/epoch - 236ms/step\n",
      "Epoch 48/100\n",
      "\n",
      "Epoch 00048: val_loss did not improve from 0.50839\n",
      "38/38 - 8s - loss: 0.5270 - accuracy: 0.7537 - val_loss: 0.5107 - val_accuracy: 0.7041 - lr: 0.0050 - 8s/epoch - 220ms/step\n",
      "Epoch 49/100\n",
      "\n",
      "Epoch 00049: val_loss did not improve from 0.50839\n",
      "38/38 - 8s - loss: 0.5363 - accuracy: 0.7455 - val_loss: 0.5094 - val_accuracy: 0.7041 - lr: 0.0050 - 8s/epoch - 219ms/step\n",
      "Epoch 50/100\n",
      "\n",
      "Epoch 00050: val_loss improved from 0.50839 to 0.50785, saving model to D:\\Documentos\\projeto convs\\models\\cropped\n",
      "38/38 - 9s - loss: 0.5195 - accuracy: 0.7620 - val_loss: 0.5078 - val_accuracy: 0.7143 - lr: 0.0050 - 9s/epoch - 239ms/step\n",
      "Epoch 51/100\n",
      "\n",
      "Epoch 00051: val_loss did not improve from 0.50785\n",
      "38/38 - 8s - loss: 0.5229 - accuracy: 0.7438 - val_loss: 0.5085 - val_accuracy: 0.7041 - lr: 0.0050 - 8s/epoch - 221ms/step\n",
      "Epoch 52/100\n",
      "\n",
      "Epoch 00052: val_loss did not improve from 0.50785\n",
      "38/38 - 8s - loss: 0.5317 - accuracy: 0.7438 - val_loss: 0.5094 - val_accuracy: 0.7143 - lr: 0.0050 - 8s/epoch - 220ms/step\n",
      "Epoch 53/100\n",
      "\n",
      "Epoch 00053: val_loss improved from 0.50785 to 0.50193, saving model to D:\\Documentos\\projeto convs\\models\\cropped\n",
      "38/38 - 9s - loss: 0.5166 - accuracy: 0.7554 - val_loss: 0.5019 - val_accuracy: 0.7551 - lr: 0.0050 - 9s/epoch - 239ms/step\n",
      "Epoch 54/100\n",
      "\n",
      "Epoch 00054: val_loss did not improve from 0.50193\n",
      "38/38 - 8s - loss: 0.5247 - accuracy: 0.7256 - val_loss: 0.5160 - val_accuracy: 0.7143 - lr: 0.0050 - 8s/epoch - 219ms/step\n",
      "Epoch 55/100\n",
      "\n",
      "Epoch 00055: val_loss did not improve from 0.50193\n",
      "38/38 - 8s - loss: 0.5137 - accuracy: 0.7686 - val_loss: 0.5046 - val_accuracy: 0.7143 - lr: 0.0050 - 8s/epoch - 220ms/step\n",
      "Epoch 56/100\n",
      "\n",
      "Epoch 00056: val_loss improved from 0.50193 to 0.50001, saving model to D:\\Documentos\\projeto convs\\models\\cropped\n",
      "38/38 - 9s - loss: 0.5228 - accuracy: 0.7405 - val_loss: 0.5000 - val_accuracy: 0.7551 - lr: 0.0050 - 9s/epoch - 240ms/step\n",
      "Epoch 57/100\n",
      "\n",
      "Epoch 00057: val_loss did not improve from 0.50001\n",
      "38/38 - 8s - loss: 0.5150 - accuracy: 0.7587 - val_loss: 0.5011 - val_accuracy: 0.7245 - lr: 0.0050 - 8s/epoch - 219ms/step\n",
      "Epoch 58/100\n",
      "\n",
      "Epoch 00058: val_loss improved from 0.50001 to 0.49924, saving model to D:\\Documentos\\projeto convs\\models\\cropped\n",
      "38/38 - 9s - loss: 0.5296 - accuracy: 0.7405 - val_loss: 0.4992 - val_accuracy: 0.7449 - lr: 0.0050 - 9s/epoch - 238ms/step\n",
      "Epoch 59/100\n",
      "\n",
      "Epoch 00059: val_loss did not improve from 0.49924\n",
      "38/38 - 8s - loss: 0.5034 - accuracy: 0.7736 - val_loss: 0.5092 - val_accuracy: 0.7245 - lr: 0.0050 - 8s/epoch - 221ms/step\n",
      "Epoch 60/100\n",
      "\n",
      "Epoch 00060: val_loss improved from 0.49924 to 0.49740, saving model to D:\\Documentos\\projeto convs\\models\\cropped\n",
      "38/38 - 9s - loss: 0.5118 - accuracy: 0.7405 - val_loss: 0.4974 - val_accuracy: 0.7449 - lr: 0.0050 - 9s/epoch - 238ms/step\n",
      "Epoch 61/100\n",
      "\n",
      "Epoch 00061: val_loss did not improve from 0.49740\n",
      "38/38 - 8s - loss: 0.5191 - accuracy: 0.7488 - val_loss: 0.5085 - val_accuracy: 0.7245 - lr: 0.0050 - 8s/epoch - 220ms/step\n",
      "Epoch 62/100\n",
      "\n",
      "Epoch 00062: val_loss did not improve from 0.49740\n",
      "38/38 - 8s - loss: 0.5318 - accuracy: 0.7306 - val_loss: 0.5069 - val_accuracy: 0.7245 - lr: 0.0050 - 8s/epoch - 220ms/step\n",
      "Epoch 63/100\n",
      "\n",
      "Epoch 00063: val_loss did not improve from 0.49740\n",
      "\n",
      "Epoch 00063: ReduceLROnPlateau reducing learning rate to 0.0024999999441206455.\n",
      "38/38 - 8s - loss: 0.5275 - accuracy: 0.7405 - val_loss: 0.5014 - val_accuracy: 0.7143 - lr: 0.0050 - 8s/epoch - 220ms/step\n",
      "Epoch 64/100\n",
      "\n",
      "Epoch 00064: val_loss did not improve from 0.49740\n",
      "38/38 - 8s - loss: 0.5179 - accuracy: 0.7521 - val_loss: 0.5007 - val_accuracy: 0.7143 - lr: 0.0025 - 8s/epoch - 221ms/step\n",
      "Epoch 65/100\n",
      "\n",
      "Epoch 00065: val_loss did not improve from 0.49740\n",
      "38/38 - 8s - loss: 0.5107 - accuracy: 0.7537 - val_loss: 0.5057 - val_accuracy: 0.7245 - lr: 0.0025 - 8s/epoch - 219ms/step\n",
      "Epoch 66/100\n",
      "\n",
      "Epoch 00066: val_loss did not improve from 0.49740\n",
      "38/38 - 8s - loss: 0.5286 - accuracy: 0.7388 - val_loss: 0.5051 - val_accuracy: 0.7245 - lr: 0.0025 - 8s/epoch - 210ms/step\n",
      "Epoch 67/100\n",
      "\n",
      "Epoch 00067: val_loss did not improve from 0.49740\n",
      "\n",
      "Epoch 00067: ReduceLROnPlateau reducing learning rate to 0.0012499999720603228.\n",
      "38/38 - 8s - loss: 0.5136 - accuracy: 0.7587 - val_loss: 0.5047 - val_accuracy: 0.7245 - lr: 0.0025 - 8s/epoch - 205ms/step\n",
      "Epoch 68/100\n",
      "\n",
      "Epoch 00068: val_loss did not improve from 0.49740\n",
      "38/38 - 8s - loss: 0.5178 - accuracy: 0.7438 - val_loss: 0.5063 - val_accuracy: 0.7245 - lr: 0.0012 - 8s/epoch - 204ms/step\n",
      "Epoch 69/100\n",
      "\n",
      "Epoch 00069: val_loss did not improve from 0.49740\n",
      "38/38 - 8s - loss: 0.5134 - accuracy: 0.7438 - val_loss: 0.5063 - val_accuracy: 0.7245 - lr: 0.0012 - 8s/epoch - 204ms/step\n",
      "Epoch 70/100\n",
      "\n",
      "Epoch 00070: val_loss did not improve from 0.49740\n",
      "38/38 - 8s - loss: 0.5120 - accuracy: 0.7521 - val_loss: 0.5063 - val_accuracy: 0.7245 - lr: 0.0012 - 8s/epoch - 206ms/step\n",
      "Epoch 71/100\n",
      "\n",
      "Epoch 00071: val_loss did not improve from 0.49740\n",
      "\n",
      "Epoch 00071: ReduceLROnPlateau reducing learning rate to 0.0006249999860301614.\n",
      "38/38 - 8s - loss: 0.5101 - accuracy: 0.7802 - val_loss: 0.5058 - val_accuracy: 0.7245 - lr: 0.0012 - 8s/epoch - 206ms/step\n",
      "Epoch 72/100\n",
      "\n",
      "Epoch 00072: val_loss did not improve from 0.49740\n",
      "38/38 - 8s - loss: 0.5122 - accuracy: 0.7636 - val_loss: 0.5053 - val_accuracy: 0.7245 - lr: 6.2500e-04 - 8s/epoch - 205ms/step\n",
      "Epoch 73/100\n",
      "\n",
      "Epoch 00073: val_loss did not improve from 0.49740\n",
      "38/38 - 8s - loss: 0.5142 - accuracy: 0.7521 - val_loss: 0.5057 - val_accuracy: 0.7245 - lr: 6.2500e-04 - 8s/epoch - 204ms/step\n",
      "Epoch 74/100\n",
      "\n",
      "Epoch 00074: val_loss did not improve from 0.49740\n",
      "38/38 - 8s - loss: 0.5171 - accuracy: 0.7421 - val_loss: 0.5051 - val_accuracy: 0.7245 - lr: 6.2500e-04 - 8s/epoch - 205ms/step\n",
      "Epoch 75/100\n",
      "\n",
      "Epoch 00075: val_loss did not improve from 0.49740\n",
      "\n",
      "Epoch 00075: ReduceLROnPlateau reducing learning rate to 0.0003124999930150807.\n",
      "38/38 - 8s - loss: 0.5086 - accuracy: 0.7603 - val_loss: 0.5042 - val_accuracy: 0.7245 - lr: 6.2500e-04 - 8s/epoch - 205ms/step\n"
     ]
    }
   ],
   "source": [
    "lr = kt.HyperParameters()\n",
    "lr.Fixed(name = 'learning rate', value = 1e-3)\n",
    "model = get_model(lr)\n",
    "history = model.fit(full_train_ds, batch_size = batch_size, epochs = 100, verbose = 2, validation_data = test_ds, callbacks = callbacks)"
   ]
  },
  {
   "cell_type": "code",
   "execution_count": 4,
   "metadata": {},
   "outputs": [
    {
     "data": {
      "image/png": "[encoded data removed]",
      "text/plain": [
       "<Figure size 576x360 with 1 Axes>"
      ]
     },
     "metadata": {
      "needs_background": "light"
     },
     "output_type": "display_data"
    }
   ],
   "source": [
    "import pandas as pd\n",
    "import matplotlib.pyplot as plt\n",
    "\n",
    "model.load_weights(best_model_path)\n",
    "df = pd.DataFrame(history.history)[['loss', 'val_loss']]\n",
    "pd.DataFrame(df).plot(figsize=(8,5))\n",
    "plt.xlabel('Epochs')\n",
    "plt.savefig('fullcroppedloss.png')\n",
    "plt.show()\n",
    "\n",
    "#adicionar matriz de confusão\n"
   ]
  },
  {
   "cell_type": "code",
   "execution_count": 5,
   "metadata": {},
   "outputs": [
    {
     "data": {
      "image/png": "[encoded data removed]",
      "text/plain": [
       "<Figure size 576x360 with 1 Axes>"
      ]
     },
     "metadata": {
      "needs_background": "light"
     },
     "output_type": "display_data"
    }
   ],
   "source": [
    "df = pd.DataFrame(history.history)[['accuracy', 'val_accuracy']]\n",
    "pd.DataFrame(df).plot(figsize=(8,5))\n",
    "plt.xlabel('Epochs')\n",
    "plt.savefig('fullcroppedaccuracy.png')\n",
    "plt.show()"
   ]
  },
  {
   "cell_type": "code",
   "execution_count": 6,
   "metadata": {},
   "outputs": [
    {
     "data": {
      "application/vnd.plotly.v1+json": {
       "config": {
        "plotlyServerURL": "https://plot.ly"
       },
       "data": [
        {
         "hovertemplate": "False Positive Rate=%{x}<br>True Positive Rate=%{y}<extra></extra>",
         "legendgroup": "",
         "line": {
          "color": "#636efa"
         },
         "marker": {
          "symbol": "circle"
         },
         "mode": "lines",
         "name": "",
         "orientation": "v",
         "showlegend": false,
         "stackgroup": "1",
         "type": "scatter",
         "x": [
          0,
          0,
          0,
          0.022222222222222223,
          0.022222222222222223,
          0.044444444444444446,
          0.044444444444444446,
          0.06666666666666667,
          0.06666666666666667,
          0.08888888888888889,
          0.08888888888888889,
          0.1111111111111111,
          0.1111111111111111,
          0.13333333333333333,
          0.13333333333333333,
          0.17777777777777778,
          0.17777777777777778,
          0.2222222222222222,
          0.2222222222222222,
          0.28888888888888886,
          0.28888888888888886,
          0.3333333333333333,
          0.3333333333333333,
          0.35555555555555557,
          0.35555555555555557,
          0.5333333333333333,
          0.5333333333333333,
          0.6444444444444445,
          0.6444444444444445,
          0.8222222222222222,
          0.8222222222222222,
          1
         ],
         "xaxis": "x",
         "y": [
          0,
          0.018867924528301886,
          0.32075471698113206,
          0.32075471698113206,
          0.37735849056603776,
          0.37735849056603776,
          0.41509433962264153,
          0.41509433962264153,
          0.4528301886792453,
          0.4528301886792453,
          0.4716981132075472,
          0.4716981132075472,
          0.5283018867924528,
          0.5283018867924528,
          0.5849056603773585,
          0.5849056603773585,
          0.660377358490566,
          0.660377358490566,
          0.8301886792452831,
          0.8301886792452831,
          0.8867924528301887,
          0.8867924528301887,
          0.9056603773584906,
          0.9056603773584906,
          0.9433962264150944,
          0.9433962264150944,
          0.9622641509433962,
          0.9622641509433962,
          0.9811320754716981,
          0.9811320754716981,
          1,
          1
         ],
         "yaxis": "y"
        }
       ],
       "layout": {
        "height": 500,
        "legend": {
         "tracegroupgap": 0
        },
        "shapes": [
         {
          "line": {
           "dash": "dash"
          },
          "type": "line",
          "x0": 0,
          "x1": 1,
          "y0": 0,
          "y1": 1
         }
        ],
        "template": {
         "data": {
          "bar": [
           {
            "error_x": {
             "color": "#2a3f5f"
            },
            "error_y": {
             "color": "#2a3f5f"
            },
            "marker": {
             "line": {
              "color": "#E5ECF6",
              "width": 0.5
             },
             "pattern": {
              "fillmode": "overlay",
              "size": 10,
              "solidity": 0.2
             }
            },
            "type": "bar"
           }
          ],
          "barpolar": [
           {
            "marker": {
             "line": {
              "color": "#E5ECF6",
              "width": 0.5
             },
             "pattern": {
              "fillmode": "overlay",
              "size": 10,
              "solidity": 0.2
             }
            },
            "type": "barpolar"
           }
          ],
          "carpet": [
           {
            "aaxis": {
             "endlinecolor": "#2a3f5f",
             "gridcolor": "white",
             "linecolor": "white",
             "minorgridcolor": "white",
             "startlinecolor": "#2a3f5f"
            },
            "baxis": {
             "endlinecolor": "#2a3f5f",
             "gridcolor": "white",
             "linecolor": "white",
             "minorgridcolor": "white",
             "startlinecolor": "#2a3f5f"
            },
            "type": "carpet"
           }
          ],
          "choropleth": [
           {
            "colorbar": {
             "outlinewidth": 0,
             "ticks": ""
            },
            "type": "choropleth"
           }
          ],
          "contour": [
           {
            "colorbar": {
             "outlinewidth": 0,
             "ticks": ""
            },
            "colorscale": [
             [
              0,
              "#0d0887"
             ],
             [
              0.1111111111111111,
              "#46039f"
             ],
             [
              0.2222222222222222,
              "#7201a8"
             ],
             [
              0.3333333333333333,
              "#9c179e"
             ],
             [
              0.4444444444444444,
              "#bd3786"
             ],
             [
              0.5555555555555556,
              "#d8576b"
             ],
             [
              0.6666666666666666,
              "#ed7953"
             ],
             [
              0.7777777777777778,
              "#fb9f3a"
             ],
             [
              0.8888888888888888,
              "#fdca26"
             ],
             [
              1,
              "#f0f921"
             ]
            ],
            "type": "contour"
           }
          ],
          "contourcarpet": [
           {
            "colorbar": {
             "outlinewidth": 0,
             "ticks": ""
            },
            "type": "contourcarpet"
           }
          ],
          "heatmap": [
           {
            "colorbar": {
             "outlinewidth": 0,
             "ticks": ""
            },
            "colorscale": [
             [
              0,
              "#0d0887"
             ],
             [
              0.1111111111111111,
              "#46039f"
             ],
             [
              0.2222222222222222,
              "#7201a8"
             ],
             [
              0.3333333333333333,
              "#9c179e"
             ],
             [
              0.4444444444444444,
              "#bd3786"
             ],
             [
              0.5555555555555556,
              "#d8576b"
             ],
             [
              0.6666666666666666,
              "#ed7953"
             ],
             [
              0.7777777777777778,
              "#fb9f3a"
             ],
             [
              0.8888888888888888,
              "#fdca26"
             ],
             [
              1,
              "#f0f921"
             ]
            ],
            "type": "heatmap"
           }
          ],
          "heatmapgl": [
           {
            "colorbar": {
             "outlinewidth": 0,
             "ticks": ""
            },
            "colorscale": [
             [
              0,
              "#0d0887"
             ],
             [
              0.1111111111111111,
              "#46039f"
             ],
             [
              0.2222222222222222,
              "#7201a8"
             ],
             [
              0.3333333333333333,
              "#9c179e"
             ],
             [
              0.4444444444444444,
              "#bd3786"
             ],
             [
              0.5555555555555556,
              "#d8576b"
             ],
             [
              0.6666666666666666,
              "#ed7953"
             ],
             [
              0.7777777777777778,
              "#fb9f3a"
             ],
             [
              0.8888888888888888,
              "#fdca26"
             ],
             [
              1,
              "#f0f921"
             ]
            ],
            "type": "heatmapgl"
           }
          ],
          "histogram": [
           {
            "marker": {
             "pattern": {
              "fillmode": "overlay",
              "size": 10,
              "solidity": 0.2
             }
            },
            "type": "histogram"
           }
          ],
          "histogram2d": [
           {
            "colorbar": {
             "outlinewidth": 0,
             "ticks": ""
            },
            "colorscale": [
             [
              0,
              "#0d0887"
             ],
             [
              0.1111111111111111,
              "#46039f"
             ],
             [
              0.2222222222222222,
              "#7201a8"
             ],
             [
              0.3333333333333333,
              "#9c179e"
             ],
             [
              0.4444444444444444,
              "#bd3786"
             ],
             [
              0.5555555555555556,
              "#d8576b"
             ],
             [
              0.6666666666666666,
              "#ed7953"
             ],
             [
              0.7777777777777778,
              "#fb9f3a"
             ],
             [
              0.8888888888888888,
              "#fdca26"
             ],
             [
              1,
              "#f0f921"
             ]
            ],
            "type": "histogram2d"
           }
          ],
          "histogram2dcontour": [
           {
            "colorbar": {
             "outlinewidth": 0,
             "ticks": ""
            },
            "colorscale": [
             [
              0,
              "#0d0887"
             ],
             [
              0.1111111111111111,
              "#46039f"
             ],
             [
              0.2222222222222222,
              "#7201a8"
             ],
             [
              0.3333333333333333,
              "#9c179e"
             ],
             [
              0.4444444444444444,
              "#bd3786"
             ],
             [
              0.5555555555555556,
              "#d8576b"
             ],
             [
              0.6666666666666666,
              "#ed7953"
             ],
             [
              0.7777777777777778,
              "#fb9f3a"
             ],
             [
              0.8888888888888888,
              "#fdca26"
             ],
             [
              1,
              "#f0f921"
             ]
            ],
            "type": "histogram2dcontour"
           }
          ],
          "mesh3d": [
           {
            "colorbar": {
             "outlinewidth": 0,
             "ticks": ""
            },
            "type": "mesh3d"
           }
          ],
          "parcoords": [
           {
            "line": {
             "colorbar": {
              "outlinewidth": 0,
              "ticks": ""
             }
            },
            "type": "parcoords"
           }
          ],
          "pie": [
           {
            "automargin": true,
            "type": "pie"
           }
          ],
          "scatter": [
           {
            "marker": {
             "colorbar": {
              "outlinewidth": 0,
              "ticks": ""
             }
            },
            "type": "scatter"
           }
          ],
          "scatter3d": [
           {
            "line": {
             "colorbar": {
              "outlinewidth": 0,
              "ticks": ""
             }
            },
            "marker": {
             "colorbar": {
              "outlinewidth": 0,
              "ticks": ""
             }
            },
            "type": "scatter3d"
           }
          ],
          "scattercarpet": [
           {
            "marker": {
             "colorbar": {
              "outlinewidth": 0,
              "ticks": ""
             }
            },
            "type": "scattercarpet"
           }
          ],
          "scattergeo": [
           {
            "marker": {
             "colorbar": {
              "outlinewidth": 0,
              "ticks": ""
             }
            },
            "type": "scattergeo"
           }
          ],
          "scattergl": [
           {
            "marker": {
             "colorbar": {
              "outlinewidth": 0,
              "ticks": ""
             }
            },
            "type": "scattergl"
           }
          ],
          "scattermapbox": [
           {
            "marker": {
             "colorbar": {
              "outlinewidth": 0,
              "ticks": ""
             }
            },
            "type": "scattermapbox"
           }
          ],
          "scatterpolar": [
           {
            "marker": {
             "colorbar": {
              "outlinewidth": 0,
              "ticks": ""
             }
            },
            "type": "scatterpolar"
           }
          ],
          "scatterpolargl": [
           {
            "marker": {
             "colorbar": {
              "outlinewidth": 0,
              "ticks": ""
             }
            },
            "type": "scatterpolargl"
           }
          ],
          "scatterternary": [
           {
            "marker": {
             "colorbar": {
              "outlinewidth": 0,
              "ticks": ""
             }
            },
            "type": "scatterternary"
           }
          ],
          "surface": [
           {
            "colorbar": {
             "outlinewidth": 0,
             "ticks": ""
            },
            "colorscale": [
             [
              0,
              "#0d0887"
             ],
             [
              0.1111111111111111,
              "#46039f"
             ],
             [
              0.2222222222222222,
              "#7201a8"
             ],
             [
              0.3333333333333333,
              "#9c179e"
             ],
             [
              0.4444444444444444,
              "#bd3786"
             ],
             [
              0.5555555555555556,
              "#d8576b"
             ],
             [
              0.6666666666666666,
              "#ed7953"
             ],
             [
              0.7777777777777778,
              "#fb9f3a"
             ],
             [
              0.8888888888888888,
              "#fdca26"
             ],
             [
              1,
              "#f0f921"
             ]
            ],
            "type": "surface"
           }
          ],
          "table": [
           {
            "cells": {
             "fill": {
              "color": "#EBF0F8"
             },
             "line": {
              "color": "white"
             }
            },
            "header": {
             "fill": {
              "color": "#C8D4E3"
             },
             "line": {
              "color": "white"
             }
            },
            "type": "table"
           }
          ]
         },
         "layout": {
          "annotationdefaults": {
           "arrowcolor": "#2a3f5f",
           "arrowhead": 0,
           "arrowwidth": 1
          },
          "autotypenumbers": "strict",
          "coloraxis": {
           "colorbar": {
            "outlinewidth": 0,
            "ticks": ""
           }
          },
          "colorscale": {
           "diverging": [
            [
             0,
             "#8e0152"
            ],
            [
             0.1,
             "#c51b7d"
            ],
            [
             0.2,
             "#de77ae"
            ],
            [
             0.3,
             "#f1b6da"
            ],
            [
             0.4,
             "#fde0ef"
            ],
            [
             0.5,
             "#f7f7f7"
            ],
            [
             0.6,
             "#e6f5d0"
            ],
            [
             0.7,
             "#b8e186"
            ],
            [
             0.8,
             "#7fbc41"
            ],
            [
             0.9,
             "#4d9221"
            ],
            [
             1,
             "#276419"
            ]
           ],
           "sequential": [
            [
             0,
             "#0d0887"
            ],
            [
             0.1111111111111111,
             "#46039f"
            ],
            [
             0.2222222222222222,
             "#7201a8"
            ],
            [
             0.3333333333333333,
             "#9c179e"
            ],
            [
             0.4444444444444444,
             "#bd3786"
            ],
            [
             0.5555555555555556,
             "#d8576b"
            ],
            [
             0.6666666666666666,
             "#ed7953"
            ],
            [
             0.7777777777777778,
             "#fb9f3a"
            ],
            [
             0.8888888888888888,
             "#fdca26"
            ],
            [
             1,
             "#f0f921"
            ]
           ],
           "sequentialminus": [
            [
             0,
             "#0d0887"
            ],
            [
             0.1111111111111111,
             "#46039f"
            ],
            [
             0.2222222222222222,
             "#7201a8"
            ],
            [
             0.3333333333333333,
             "#9c179e"
            ],
            [
             0.4444444444444444,
             "#bd3786"
            ],
            [
             0.5555555555555556,
             "#d8576b"
            ],
            [
             0.6666666666666666,
             "#ed7953"
            ],
            [
             0.7777777777777778,
             "#fb9f3a"
            ],
            [
             0.8888888888888888,
             "#fdca26"
            ],
            [
             1,
             "#f0f921"
            ]
           ]
          },
          "colorway": [
           "#636efa",
           "#EF553B",
           "#00cc96",
           "#ab63fa",
           "#FFA15A",
           "#19d3f3",
           "#FF6692",
           "#B6E880",
           "#FF97FF",
           "#FECB52"
          ],
          "font": {
           "color": "#2a3f5f"
          },
          "geo": {
           "bgcolor": "white",
           "lakecolor": "white",
           "landcolor": "#E5ECF6",
           "showlakes": true,
           "showland": true,
           "subunitcolor": "white"
          },
          "hoverlabel": {
           "align": "left"
          },
          "hovermode": "closest",
          "mapbox": {
           "style": "light"
          },
          "paper_bgcolor": "white",
          "plot_bgcolor": "#E5ECF6",
          "polar": {
           "angularaxis": {
            "gridcolor": "white",
            "linecolor": "white",
            "ticks": ""
           },
           "bgcolor": "#E5ECF6",
           "radialaxis": {
            "gridcolor": "white",
            "linecolor": "white",
            "ticks": ""
           }
          },
          "scene": {
           "xaxis": {
            "backgroundcolor": "#E5ECF6",
            "gridcolor": "white",
            "gridwidth": 2,
            "linecolor": "white",
            "showbackground": true,
            "ticks": "",
            "zerolinecolor": "white"
           },
           "yaxis": {
            "backgroundcolor": "#E5ECF6",
            "gridcolor": "white",
            "gridwidth": 2,
            "linecolor": "white",
            "showbackground": true,
            "ticks": "",
            "zerolinecolor": "white"
           },
           "zaxis": {
            "backgroundcolor": "#E5ECF6",
            "gridcolor": "white",
            "gridwidth": 2,
            "linecolor": "white",
            "showbackground": true,
            "ticks": "",
            "zerolinecolor": "white"
           }
          },
          "shapedefaults": {
           "line": {
            "color": "#2a3f5f"
           }
          },
          "ternary": {
           "aaxis": {
            "gridcolor": "white",
            "linecolor": "white",
            "ticks": ""
           },
           "baxis": {
            "gridcolor": "white",
            "linecolor": "white",
            "ticks": ""
           },
           "bgcolor": "#E5ECF6",
           "caxis": {
            "gridcolor": "white",
            "linecolor": "white",
            "ticks": ""
           }
          },
          "title": {
           "x": 0.05
          },
          "xaxis": {
           "automargin": true,
           "gridcolor": "white",
           "linecolor": "white",
           "ticks": "",
           "title": {
            "standoff": 15
           },
           "zerolinecolor": "white",
           "zerolinewidth": 2
          },
          "yaxis": {
           "automargin": true,
           "gridcolor": "white",
           "linecolor": "white",
           "ticks": "",
           "title": {
            "standoff": 15
           },
           "zerolinecolor": "white",
           "zerolinewidth": 2
          }
         }
        },
        "title": {
         "text": "ROC Curve (AUC=0.8541)"
        },
        "width": 700,
        "xaxis": {
         "anchor": "y",
         "constrain": "domain",
         "domain": [
          0,
          1
         ],
         "title": {
          "text": "False Positive Rate"
         }
        },
        "yaxis": {
         "anchor": "x",
         "domain": [
          0,
          1
         ],
         "scaleanchor": "x",
         "scaleratio": 1,
         "title": {
          "text": "True Positive Rate"
         }
        }
       }
      }
     },
     "metadata": {},
     "output_type": "display_data"
    }
   ],
   "source": [
    "def get_binary_labels(ds, model):\n",
    "    ''' TF.dataset --> numpy.array\n",
    "    takes tensorflow dataset for data with binary classification and returns array\n",
    "    with an int representing the class for each element'''\n",
    "    labels = np.array([])\n",
    "    preds = np.array([])\n",
    "    for x, y in ds.as_numpy_iterator():\n",
    "        preds = np.append(preds, model.predict(x))\n",
    "        labels = np.append(labels, y)\n",
    "    labels = np.array([int(label) for label in labels])\n",
    "    return preds, labels\n",
    "\n",
    "preds, y = get_binary_labels(test_ds, model)\n",
    "\n",
    "import matplotlib.pyplot as plt\n",
    "from sklearn.metrics import confusion_matrix, classification_report, auc,  roc_curve\n",
    "import plotly.express as px\n",
    "\n",
    "\n",
    "fpr, tpr, thresholds = roc_curve(y, preds)\n",
    "fig = px.area(\n",
    "    x=fpr, y=tpr,\n",
    "    title=f'ROC Curve (AUC={auc(fpr, tpr):.4f})',\n",
    "    labels=dict(x='False Positive Rate', y='True Positive Rate'),\n",
    "    width=700, height=500\n",
    ")\n",
    "fig.add_shape(\n",
    "    type='line', line=dict(dash='dash'),\n",
    "    x0=0, x1=1, y0=0, y1=1\n",
    ")\n",
    "\n",
    "fig.update_yaxes(scaleanchor=\"x\", scaleratio=1)\n",
    "fig.update_xaxes(constrain='domain')\n",
    "fig.show()\n"
   ]
  },
  {
   "cell_type": "code",
   "execution_count": 8,
   "metadata": {},
   "outputs": [
    {
     "data": {
      "image/png": "[encoded data removed]",
      "text/plain": [
       "<Figure size 432x288 with 2 Axes>"
      ]
     },
     "metadata": {},
     "output_type": "display_data"
    },
    {
     "data": {
      "text/plain": [
       "<Figure size 720x504 with 0 Axes>"
      ]
     },
     "metadata": {},
     "output_type": "display_data"
    },
    {
     "name": "stdout",
     "output_type": "stream",
     "text": [
      "              precision    recall  f1-score   support\n",
      "\n",
      "           0       0.80      0.78      0.79        45\n",
      "           1       0.81      0.83      0.82        53\n",
      "\n",
      "    accuracy                           0.81        98\n",
      "   macro avg       0.81      0.80      0.80        98\n",
      "weighted avg       0.81      0.81      0.81        98\n",
      "\n"
     ]
    }
   ],
   "source": [
    "import seaborn as sns\n",
    "\n",
    "dists = np.array([(np.sqrt((0 - x)**2 + (1-y)**2)) for x, y in zip(fpr, tpr)])\n",
    "cutoff_idx = dists.argmin()\n",
    "cutoff = thresholds[cutoff_idx]\n",
    "\n",
    "#Selecionando cutoff\n",
    "\n",
    "preds2 = np.array([1 if x >= cutoff else 0 for x in preds])\n",
    "cm = confusion_matrix(y, preds2)\n",
    "#turn this into a dataframe\n",
    "matrix_df = pd.DataFrame(cm)\n",
    "#plot the result\n",
    "ax = plt.axes()\n",
    "sns.set(font_scale=1.3)\n",
    "plt.figure(figsize=(10,7))\n",
    "sns.heatmap(matrix_df, annot=True, fmt=\"g\", ax=ax, cmap=\"magma\")\n",
    "#set axis titles\n",
    "ax.set_title('Confusion Matrix - Dense121')\n",
    "ax.set_xlabel(\"Predicted label\", fontsize =15)\n",
    "ax.set_ylabel(\"True Label\", fontsize=15)\n",
    "plt.savefig('fullcroppedcm.png')\n",
    "\n",
    "plt.show()\n",
    "print(classification_report(y, preds2))"
   ]
  },
  {
   "cell_type": "code",
   "execution_count": 9,
   "metadata": {},
   "outputs": [
    {
     "name": "stdout",
     "output_type": "stream",
     "text": [
      "\\begin{tabular}{lrrrr}\n",
      "\\toprule\n",
      "{} &  precision &    recall &  f1-score &    support \\\\\n",
      "\\midrule\n",
      "0            &   0.795455 &  0.777778 &  0.786517 &  45.000000 \\\\\n",
      "1            &   0.814815 &  0.830189 &  0.822430 &  53.000000 \\\\\n",
      "accuracy     &   0.806122 &  0.806122 &  0.806122 &   0.806122 \\\\\n",
      "macro avg    &   0.805135 &  0.803983 &  0.804473 &  98.000000 \\\\\n",
      "weighted avg &   0.805925 &  0.806122 &  0.805939 &  98.000000 \\\\\n",
      "\\bottomrule\n",
      "\\end{tabular}\n",
      "\n"
     ]
    }
   ],
   "source": [
    "print(pd.DataFrame(classification_report(y, preds2, output_dict=True)).transpose().to_latex())"
   ]
  }
 ],
 "metadata": {
  "interpreter": {
   "hash": "81501fb6968db567c48e2f6497df9bfcfab897da0876ab26c596c8e980f4fbda"
  },
  "kernelspec": {
   "display_name": "Python 3.9.4 64-bit",
   "language": "python",
   "name": "python3"
  },
  "language_info": {
   "codemirror_mode": {
    "name": "ipython",
    "version": 3
   },
   "file_extension": ".py",
   "mimetype": "text/x-python",
   "name": "python",
   "nbconvert_exporter": "python",
   "pygments_lexer": "ipython3",
   "version": "3.9.4"
  },
  "orig_nbformat": 4
 },
 "nbformat": 4,
 "nbformat_minor": 2
}
