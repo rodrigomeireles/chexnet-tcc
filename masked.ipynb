{
 "cells": [
  {
   "cell_type": "markdown",
   "id": "ef69faa0",
   "metadata": {},
   "source": [
    "### Masked dataset"
   ]
  },
  {
   "cell_type": "code",
   "execution_count": 2,
   "id": "bab1d7ef",
   "metadata": {},
   "outputs": [
    {
     "name": "stdout",
     "output_type": "stream",
     "text": [
      "Found 704 files belonging to 2 classes.\n",
      "Using 606 files for training.\n",
      "Found 704 files belonging to 2 classes.\n",
      "Using 98 files for validation.\n"
     ]
    }
   ],
   "source": [
    "import tensorflow as tf \n",
    "import numpy as np\n",
    "import pandas as pd\n",
    "\n",
    "seed = 13\n",
    "batch_size = 16 \n",
    "img_height = 224 \n",
    "img_width = 224 \n",
    "img_size = (img_height, img_width)\n",
    "size = (img_height, img_width)\n",
    "data_dir = 'D:\\Downloads\\masked_images'\n",
    "weight_path = 'D:\\Downloads\\\\brucechou1983_CheXNet_Keras_0.3.0_weights.h5'\n",
    "best_model_path = 'D:\\Documentos\\projeto convs\\models\\masked'\n",
    "\n",
    "\n",
    "## Split do dataset.\n",
    "\n",
    "full_train_ds = tf.keras.preprocessing.image_dataset_from_directory(\n",
    "    data_dir,\n",
    "    validation_split=0.14,\n",
    "    subset=\"training\",\n",
    "    seed= seed,\n",
    "    image_size= img_size,\n",
    "    batch_size = batch_size\n",
    ")\n",
    "test_ds = tf.keras.preprocessing.image_dataset_from_directory(\n",
    "    data_dir,\n",
    "    validation_split=0.14, #98 imagens pra teste\n",
    "    subset=\"validation\",\n",
    "    seed= seed,\n",
    "    image_size= img_size,\n",
    "    batch_size = batch_size\n",
    ")\n",
    "\n",
    "full_train_ds.shuffle(1000, reshuffle_each_iteration = False, seed = seed) #embaralha e desativa shuffle pois usar o map que virá depois itera o dataset, o reshuffle pode causar vazamento de dados\n",
    "\n",
    "def recover(x, y):\n",
    "    return y\n",
    "\n",
    "def is_val(x, y):\n",
    "    return x%6 == 0 # 1/6 do dataset ~ 100 imagens pra validação\n",
    "\n",
    "def is_train(x,y):\n",
    "    return not is_val(x,y)\n",
    "\n",
    "val_ds = full_train_ds.enumerate().filter(is_val).map(recover)\n",
    "train_ds = full_train_ds.enumerate().filter(is_train).map(recover)\n",
    "\n",
    "full_train_ds.shuffle(1000, reshuffle_each_iteration = True, seed = seed) #reseta o shuffle para acontecer o shuffle entre épocas do treino\n",
    "\n",
    "\n",
    "import keras\n",
    "from keras import layers\n",
    "import keras_tuner as kt\n",
    "\n",
    "channels = tuple([3])\n",
    "shape = size + channels\n",
    "\n",
    "def get_model(hp):\n",
    "    inputs = keras.Input(shape = shape)\n",
    "    x = layers.RandomRotation(0.05)(inputs) #tentar rotacionar menos\n",
    "    x = layers.Rescaling(scale=1./127.5, offset=-1)(x) #normalização \"manual\"\n",
    "\n",
    "    chexnet = tf.keras.applications.DenseNet121(weights= None,\n",
    "                                                include_top = False, \n",
    "                                                input_tensor = x,\n",
    "                                                input_shape = shape\n",
    "                                               )\n",
    "\n",
    "    out = tf.keras.layers.Dense(14, activation='sigmoid')(chexnet.output)\n",
    "    model = tf.keras.Model(inputs, out)\n",
    "    \n",
    "    for layer in chexnet.layers:\n",
    "        layer.trainable = False\n",
    "    model.load_weights(weight_path)\n",
    "    \n",
    "    x =  layers.GlobalAveragePooling2D()(chexnet.output)\n",
    "    preds = layers.Dense(units = 1, activation = 'sigmoid', name='prediction')(x)\n",
    "    model = tf.keras.Model(model.input, preds)\n",
    "    #Tune LR\n",
    "    hp_lr = hp.Choice('learning_rate', values = [1e-2, 1e-3, 1e-4])\n",
    "    opt = tf.keras.optimizers.SGD(learning_rate = hp_lr)\n",
    "    model.compile(optimizer = opt, loss = 'binary_crossentropy', metrics = ['accuracy'])        \n",
    "    return model\n",
    "\n",
    "tuner = kt.RandomSearch(get_model, objective = kt.Objective('val_accuracy', direction = 'max'), max_trials = 3  , seed = 1337, overwrite = True)\n",
    "\n",
    "from keras.callbacks import ModelCheckpoint, EarlyStopping, ReduceLROnPlateau\n",
    "\n",
    "#Callbacks\n",
    "checkpoint = ModelCheckpoint(best_model_path, monitor='val_loss', verbose=1, \n",
    "                                save_best_only=True, mode='min', save_weights_only = True)\n",
    "\n",
    "reduceLROnPlat = ReduceLROnPlateau(monitor='val_loss', factor=0.5, \n",
    "                                patience=3, \n",
    "                                verbose=1, mode='min', min_delta=0.0001, cooldown=2, min_lr=1e-6)\n",
    "\n",
    "early = EarlyStopping(monitor=\"val_loss\", \n",
    "                    mode=\"min\", \n",
    "                    patience=15) \n",
    "\n",
    "callbacks = [checkpoint, early, reduceLROnPlat]"
   ]
  },
  {
   "cell_type": "markdown",
   "id": "473e060e",
   "metadata": {},
   "source": [
    "Hyperparameter Search"
   ]
  },
  {
   "cell_type": "code",
   "execution_count": 2,
   "id": "6868e4fa",
   "metadata": {},
   "outputs": [
    {
     "name": "stdout",
     "output_type": "stream",
     "text": [
      "Trial 3 Complete [00h 14m 46s]\n",
      "val_accuracy: 0.7946428656578064\n",
      "\n",
      "Best val_accuracy So Far: 0.7946428656578064\n",
      "Total elapsed time: 00h 28m 50s\n",
      "INFO:tensorflow:Oracle triggered exit\n",
      "Best learning rate was 0.001.\n"
     ]
    }
   ],
   "source": [
    "tuner.search(train_ds, batch_size = batch_size, epochs = 100, validation_data = val_ds, callbacks = callbacks)\n",
    "best_hps = tuner.get_best_hyperparameters(5)\n",
    "print(f\"Best learning rate was {best_hps[1].get('learning_rate')}.\")\n",
    "model = get_model(best_hps[0])"
   ]
  },
  {
   "cell_type": "markdown",
   "id": "c94445cb",
   "metadata": {},
   "source": [
    "### Full Training"
   ]
  },
  {
   "cell_type": "code",
   "execution_count": 3,
   "id": "48fbbd82",
   "metadata": {},
   "outputs": [
    {
     "name": "stdout",
     "output_type": "stream",
     "text": [
      "Epoch 1/100\n",
      "\n",
      "Epoch 00001: val_loss improved from inf to 0.69363, saving model to D:\\Documentos\\projeto convs\\models\\masked\n",
      "38/38 - 52s - loss: 0.7006 - accuracy: 0.5182 - val_loss: 0.6936 - val_accuracy: 0.5408 - lr: 0.0100 - 52s/epoch - 1s/step\n",
      "Epoch 2/100\n",
      "\n",
      "Epoch 00002: val_loss improved from 0.69363 to 0.69354, saving model to D:\\Documentos\\projeto convs\\models\\masked\n",
      "38/38 - 39s - loss: 0.6995 - accuracy: 0.4884 - val_loss: 0.6935 - val_accuracy: 0.4694 - lr: 0.0100 - 39s/epoch - 1s/step\n",
      "Epoch 3/100\n",
      "\n",
      "Epoch 00003: val_loss improved from 0.69354 to 0.68213, saving model to D:\\Documentos\\projeto convs\\models\\masked\n",
      "38/38 - 39s - loss: 0.6908 - accuracy: 0.5281 - val_loss: 0.6821 - val_accuracy: 0.5408 - lr: 0.0100 - 39s/epoch - 1s/step\n",
      "Epoch 4/100\n",
      "\n",
      "Epoch 00004: val_loss did not improve from 0.68213\n",
      "38/38 - 13s - loss: 0.6923 - accuracy: 0.5132 - val_loss: 0.6830 - val_accuracy: 0.6327 - lr: 0.0100 - 13s/epoch - 341ms/step\n",
      "Epoch 5/100\n",
      "\n",
      "Epoch 00005: val_loss improved from 0.68213 to 0.67940, saving model to D:\\Documentos\\projeto convs\\models\\masked\n",
      "38/38 - 11s - loss: 0.6882 - accuracy: 0.5512 - val_loss: 0.6794 - val_accuracy: 0.6327 - lr: 0.0100 - 11s/epoch - 280ms/step\n",
      "Epoch 6/100\n",
      "\n",
      "Epoch 00006: val_loss did not improve from 0.67940\n",
      "38/38 - 10s - loss: 0.6839 - accuracy: 0.5693 - val_loss: 0.6861 - val_accuracy: 0.5306 - lr: 0.0100 - 10s/epoch - 266ms/step\n",
      "Epoch 7/100\n",
      "\n",
      "Epoch 00007: val_loss improved from 0.67940 to 0.67472, saving model to D:\\Documentos\\projeto convs\\models\\masked\n",
      "38/38 - 11s - loss: 0.6855 - accuracy: 0.5561 - val_loss: 0.6747 - val_accuracy: 0.6122 - lr: 0.0100 - 11s/epoch - 283ms/step\n",
      "Epoch 8/100\n",
      "\n",
      "Epoch 00008: val_loss improved from 0.67472 to 0.67340, saving model to D:\\Documentos\\projeto convs\\models\\masked\n",
      "38/38 - 11s - loss: 0.6831 - accuracy: 0.5594 - val_loss: 0.6734 - val_accuracy: 0.5408 - lr: 0.0100 - 11s/epoch - 282ms/step\n",
      "Epoch 9/100\n",
      "\n",
      "Epoch 00009: val_loss did not improve from 0.67340\n",
      "38/38 - 10s - loss: 0.6803 - accuracy: 0.5611 - val_loss: 0.6799 - val_accuracy: 0.5918 - lr: 0.0100 - 10s/epoch - 264ms/step\n",
      "Epoch 10/100\n",
      "\n",
      "Epoch 00010: val_loss improved from 0.67340 to 0.67223, saving model to D:\\Documentos\\projeto convs\\models\\masked\n",
      "38/38 - 11s - loss: 0.6785 - accuracy: 0.5809 - val_loss: 0.6722 - val_accuracy: 0.5408 - lr: 0.0100 - 11s/epoch - 287ms/step\n",
      "Epoch 11/100\n",
      "\n",
      "Epoch 00011: val_loss did not improve from 0.67223\n",
      "38/38 - 10s - loss: 0.6752 - accuracy: 0.5974 - val_loss: 0.6879 - val_accuracy: 0.4796 - lr: 0.0100 - 10s/epoch - 265ms/step\n",
      "Epoch 12/100\n",
      "\n",
      "Epoch 00012: val_loss improved from 0.67223 to 0.66683, saving model to D:\\Documentos\\projeto convs\\models\\masked\n",
      "38/38 - 36s - loss: 0.6723 - accuracy: 0.5990 - val_loss: 0.6668 - val_accuracy: 0.5408 - lr: 0.0100 - 36s/epoch - 957ms/step\n",
      "Epoch 13/100\n",
      "\n",
      "Epoch 00013: val_loss improved from 0.66683 to 0.66100, saving model to D:\\Documentos\\projeto convs\\models\\masked\n",
      "38/38 - 14s - loss: 0.6776 - accuracy: 0.5545 - val_loss: 0.6610 - val_accuracy: 0.5918 - lr: 0.0100 - 14s/epoch - 381ms/step\n",
      "Epoch 14/100\n",
      "\n",
      "Epoch 00014: val_loss improved from 0.66100 to 0.66009, saving model to D:\\Documentos\\projeto convs\\models\\masked\n",
      "38/38 - 11s - loss: 0.6662 - accuracy: 0.6139 - val_loss: 0.6601 - val_accuracy: 0.6224 - lr: 0.0100 - 11s/epoch - 279ms/step\n",
      "Epoch 15/100\n",
      "\n",
      "Epoch 00015: val_loss did not improve from 0.66009\n",
      "38/38 - 10s - loss: 0.6647 - accuracy: 0.6122 - val_loss: 0.6646 - val_accuracy: 0.7041 - lr: 0.0100 - 10s/epoch - 262ms/step\n",
      "Epoch 16/100\n",
      "\n",
      "Epoch 00016: val_loss improved from 0.66009 to 0.65594, saving model to D:\\Documentos\\projeto convs\\models\\masked\n",
      "38/38 - 11s - loss: 0.6647 - accuracy: 0.6221 - val_loss: 0.6559 - val_accuracy: 0.5816 - lr: 0.0100 - 11s/epoch - 280ms/step\n",
      "Epoch 17/100\n",
      "\n",
      "Epoch 00017: val_loss did not improve from 0.65594\n",
      "38/38 - 10s - loss: 0.6635 - accuracy: 0.6172 - val_loss: 0.6798 - val_accuracy: 0.5204 - lr: 0.0100 - 10s/epoch - 262ms/step\n",
      "Epoch 18/100\n",
      "\n",
      "Epoch 00018: val_loss improved from 0.65594 to 0.65206, saving model to D:\\Documentos\\projeto convs\\models\\masked\n",
      "38/38 - 11s - loss: 0.6611 - accuracy: 0.6287 - val_loss: 0.6521 - val_accuracy: 0.6122 - lr: 0.0100 - 11s/epoch - 286ms/step\n",
      "Epoch 19/100\n",
      "\n",
      "Epoch 00019: val_loss did not improve from 0.65206\n",
      "38/38 - 10s - loss: 0.6618 - accuracy: 0.6287 - val_loss: 0.6555 - val_accuracy: 0.7041 - lr: 0.0100 - 10s/epoch - 265ms/step\n",
      "Epoch 20/100\n",
      "\n",
      "Epoch 00020: val_loss improved from 0.65206 to 0.64912, saving model to D:\\Documentos\\projeto convs\\models\\masked\n",
      "38/38 - 11s - loss: 0.6621 - accuracy: 0.6304 - val_loss: 0.6491 - val_accuracy: 0.6429 - lr: 0.0100 - 11s/epoch - 281ms/step\n",
      "Epoch 21/100\n",
      "\n",
      "Epoch 00021: val_loss did not improve from 0.64912\n",
      "38/38 - 10s - loss: 0.6589 - accuracy: 0.6254 - val_loss: 0.6544 - val_accuracy: 0.7041 - lr: 0.0100 - 10s/epoch - 263ms/step\n",
      "Epoch 22/100\n",
      "\n",
      "Epoch 00022: val_loss improved from 0.64912 to 0.64618, saving model to D:\\Documentos\\projeto convs\\models\\masked\n",
      "38/38 - 11s - loss: 0.6542 - accuracy: 0.6403 - val_loss: 0.6462 - val_accuracy: 0.5918 - lr: 0.0100 - 11s/epoch - 285ms/step\n",
      "Epoch 23/100\n",
      "\n",
      "Epoch 00023: val_loss did not improve from 0.64618\n",
      "38/38 - 10s - loss: 0.6574 - accuracy: 0.6254 - val_loss: 0.6467 - val_accuracy: 0.6939 - lr: 0.0100 - 10s/epoch - 269ms/step\n",
      "Epoch 24/100\n",
      "\n",
      "Epoch 00024: val_loss did not improve from 0.64618\n",
      "38/38 - 10s - loss: 0.6514 - accuracy: 0.6502 - val_loss: 0.6592 - val_accuracy: 0.6633 - lr: 0.0100 - 10s/epoch - 258ms/step\n",
      "Epoch 25/100\n",
      "\n",
      "Epoch 00025: val_loss improved from 0.64618 to 0.64318, saving model to D:\\Documentos\\projeto convs\\models\\masked\n",
      "38/38 - 10s - loss: 0.6517 - accuracy: 0.6386 - val_loss: 0.6432 - val_accuracy: 0.6837 - lr: 0.0100 - 10s/epoch - 274ms/step\n",
      "Epoch 26/100\n",
      "\n",
      "Epoch 00026: val_loss improved from 0.64318 to 0.64029, saving model to D:\\Documentos\\projeto convs\\models\\masked\n",
      "38/38 - 10s - loss: 0.6502 - accuracy: 0.6502 - val_loss: 0.6403 - val_accuracy: 0.6531 - lr: 0.0100 - 10s/epoch - 275ms/step\n",
      "Epoch 27/100\n",
      "\n",
      "Epoch 00027: val_loss improved from 0.64029 to 0.63866, saving model to D:\\Documentos\\projeto convs\\models\\masked\n",
      "38/38 - 10s - loss: 0.6456 - accuracy: 0.6617 - val_loss: 0.6387 - val_accuracy: 0.5918 - lr: 0.0100 - 10s/epoch - 276ms/step\n",
      "Epoch 28/100\n",
      "\n",
      "Epoch 00028: val_loss did not improve from 0.63866\n",
      "38/38 - 10s - loss: 0.6520 - accuracy: 0.6502 - val_loss: 0.6476 - val_accuracy: 0.7041 - lr: 0.0100 - 10s/epoch - 258ms/step\n",
      "Epoch 29/100\n",
      "\n",
      "Epoch 00029: val_loss did not improve from 0.63866\n",
      "38/38 - 10s - loss: 0.6483 - accuracy: 0.6551 - val_loss: 0.6406 - val_accuracy: 0.5816 - lr: 0.0100 - 10s/epoch - 258ms/step\n",
      "Epoch 30/100\n",
      "\n",
      "Epoch 00030: val_loss improved from 0.63866 to 0.63576, saving model to D:\\Documentos\\projeto convs\\models\\masked\n",
      "38/38 - 11s - loss: 0.6476 - accuracy: 0.6617 - val_loss: 0.6358 - val_accuracy: 0.6633 - lr: 0.0100 - 11s/epoch - 277ms/step\n",
      "Epoch 31/100\n",
      "\n",
      "Epoch 00031: val_loss did not improve from 0.63576\n",
      "38/38 - 10s - loss: 0.6466 - accuracy: 0.6733 - val_loss: 0.6375 - val_accuracy: 0.5714 - lr: 0.0100 - 10s/epoch - 258ms/step\n",
      "Epoch 32/100\n",
      "\n",
      "Epoch 00032: val_loss improved from 0.63576 to 0.63301, saving model to D:\\Documentos\\projeto convs\\models\\masked\n",
      "38/38 - 10s - loss: 0.6424 - accuracy: 0.6518 - val_loss: 0.6330 - val_accuracy: 0.6633 - lr: 0.0100 - 10s/epoch - 275ms/step\n",
      "Epoch 33/100\n",
      "\n",
      "Epoch 00033: val_loss did not improve from 0.63301\n",
      "38/38 - 10s - loss: 0.6492 - accuracy: 0.6403 - val_loss: 0.6374 - val_accuracy: 0.7245 - lr: 0.0100 - 10s/epoch - 257ms/step\n",
      "Epoch 34/100\n",
      "\n",
      "Epoch 00034: val_loss improved from 0.63301 to 0.63243, saving model to D:\\Documentos\\projeto convs\\models\\masked\n",
      "38/38 - 10s - loss: 0.6357 - accuracy: 0.6749 - val_loss: 0.6324 - val_accuracy: 0.7143 - lr: 0.0100 - 10s/epoch - 276ms/step\n",
      "Epoch 35/100\n",
      "\n",
      "Epoch 00035: val_loss improved from 0.63243 to 0.62882, saving model to D:\\Documentos\\projeto convs\\models\\masked\n",
      "38/38 - 11s - loss: 0.6407 - accuracy: 0.6601 - val_loss: 0.6288 - val_accuracy: 0.6531 - lr: 0.0100 - 11s/epoch - 276ms/step\n",
      "Epoch 36/100\n",
      "\n",
      "Epoch 00036: val_loss did not improve from 0.62882\n",
      "38/38 - 10s - loss: 0.6369 - accuracy: 0.6551 - val_loss: 0.6340 - val_accuracy: 0.7245 - lr: 0.0100 - 10s/epoch - 259ms/step\n",
      "Epoch 37/100\n",
      "\n",
      "Epoch 00037: val_loss improved from 0.62882 to 0.62801, saving model to D:\\Documentos\\projeto convs\\models\\masked\n",
      "38/38 - 11s - loss: 0.6411 - accuracy: 0.6452 - val_loss: 0.6280 - val_accuracy: 0.6837 - lr: 0.0100 - 11s/epoch - 282ms/step\n",
      "Epoch 38/100\n",
      "\n",
      "Epoch 00038: val_loss did not improve from 0.62801\n",
      "38/38 - 10s - loss: 0.6343 - accuracy: 0.6815 - val_loss: 0.6470 - val_accuracy: 0.6735 - lr: 0.0100 - 10s/epoch - 261ms/step\n",
      "Epoch 39/100\n",
      "\n",
      "Epoch 00039: val_loss did not improve from 0.62801\n",
      "38/38 - 10s - loss: 0.6320 - accuracy: 0.6518 - val_loss: 0.6281 - val_accuracy: 0.7041 - lr: 0.0100 - 10s/epoch - 259ms/step\n",
      "Epoch 40/100\n",
      "\n",
      "Epoch 00040: val_loss improved from 0.62801 to 0.62331, saving model to D:\\Documentos\\projeto convs\\models\\masked\n",
      "38/38 - 11s - loss: 0.6367 - accuracy: 0.6749 - val_loss: 0.6233 - val_accuracy: 0.6531 - lr: 0.0100 - 11s/epoch - 277ms/step\n",
      "Epoch 41/100\n",
      "\n",
      "Epoch 00041: val_loss did not improve from 0.62331\n",
      "38/38 - 10s - loss: 0.6364 - accuracy: 0.6551 - val_loss: 0.6328 - val_accuracy: 0.7245 - lr: 0.0100 - 10s/epoch - 259ms/step\n",
      "Epoch 42/100\n",
      "\n",
      "Epoch 00042: val_loss did not improve from 0.62331\n",
      "38/38 - 10s - loss: 0.6340 - accuracy: 0.6634 - val_loss: 0.6326 - val_accuracy: 0.7041 - lr: 0.0100 - 10s/epoch - 260ms/step\n",
      "Epoch 43/100\n",
      "\n",
      "Epoch 00043: val_loss improved from 0.62331 to 0.62159, saving model to D:\\Documentos\\projeto convs\\models\\masked\n",
      "38/38 - 11s - loss: 0.6321 - accuracy: 0.6931 - val_loss: 0.6216 - val_accuracy: 0.6122 - lr: 0.0100 - 11s/epoch - 278ms/step\n",
      "Epoch 44/100\n",
      "\n",
      "Epoch 00044: val_loss did not improve from 0.62159\n",
      "38/38 - 10s - loss: 0.6292 - accuracy: 0.6815 - val_loss: 0.6482 - val_accuracy: 0.6837 - lr: 0.0100 - 10s/epoch - 258ms/step\n",
      "Epoch 45/100\n",
      "\n",
      "Epoch 00045: val_loss improved from 0.62159 to 0.61956, saving model to D:\\Documentos\\projeto convs\\models\\masked\n",
      "38/38 - 11s - loss: 0.6333 - accuracy: 0.6617 - val_loss: 0.6196 - val_accuracy: 0.6939 - lr: 0.0100 - 11s/epoch - 276ms/step\n",
      "Epoch 46/100\n",
      "\n",
      "Epoch 00046: val_loss did not improve from 0.61956\n",
      "38/38 - 10s - loss: 0.6368 - accuracy: 0.6749 - val_loss: 0.6215 - val_accuracy: 0.7143 - lr: 0.0100 - 10s/epoch - 260ms/step\n",
      "Epoch 47/100\n",
      "\n",
      "Epoch 00047: val_loss improved from 0.61956 to 0.61640, saving model to D:\\Documentos\\projeto convs\\models\\masked\n",
      "38/38 - 11s - loss: 0.6317 - accuracy: 0.6716 - val_loss: 0.6164 - val_accuracy: 0.6633 - lr: 0.0100 - 11s/epoch - 281ms/step\n",
      "Epoch 48/100\n",
      "\n",
      "Epoch 00048: val_loss improved from 0.61640 to 0.61613, saving model to D:\\Documentos\\projeto convs\\models\\masked\n",
      "38/38 - 11s - loss: 0.6278 - accuracy: 0.6683 - val_loss: 0.6161 - val_accuracy: 0.6122 - lr: 0.0100 - 11s/epoch - 283ms/step\n",
      "Epoch 49/100\n",
      "\n",
      "Epoch 00049: val_loss improved from 0.61613 to 0.61465, saving model to D:\\Documentos\\projeto convs\\models\\masked\n",
      "38/38 - 11s - loss: 0.6274 - accuracy: 0.6650 - val_loss: 0.6147 - val_accuracy: 0.6735 - lr: 0.0100 - 11s/epoch - 282ms/step\n",
      "Epoch 50/100\n",
      "\n",
      "Epoch 00050: val_loss did not improve from 0.61465\n",
      "38/38 - 10s - loss: 0.6285 - accuracy: 0.6683 - val_loss: 0.6272 - val_accuracy: 0.7143 - lr: 0.0100 - 10s/epoch - 265ms/step\n",
      "Epoch 51/100\n",
      "\n",
      "Epoch 00051: val_loss did not improve from 0.61465\n",
      "38/38 - 10s - loss: 0.6243 - accuracy: 0.6898 - val_loss: 0.6288 - val_accuracy: 0.7041 - lr: 0.0100 - 10s/epoch - 265ms/step\n",
      "Epoch 52/100\n",
      "\n",
      "Epoch 00052: val_loss did not improve from 0.61465\n",
      "\n",
      "Epoch 00052: ReduceLROnPlateau reducing learning rate to 0.004999999888241291.\n",
      "38/38 - 10s - loss: 0.6187 - accuracy: 0.6848 - val_loss: 0.6171 - val_accuracy: 0.7143 - lr: 0.0100 - 10s/epoch - 262ms/step\n",
      "Epoch 53/100\n",
      "\n",
      "Epoch 00053: val_loss improved from 0.61465 to 0.61448, saving model to D:\\Documentos\\projeto convs\\models\\masked\n",
      "38/38 - 11s - loss: 0.6241 - accuracy: 0.6865 - val_loss: 0.6145 - val_accuracy: 0.7245 - lr: 0.0050 - 11s/epoch - 280ms/step\n",
      "Epoch 54/100\n",
      "\n",
      "Epoch 00054: val_loss improved from 0.61448 to 0.61402, saving model to D:\\Documentos\\projeto convs\\models\\masked\n",
      "38/38 - 10s - loss: 0.6254 - accuracy: 0.6667 - val_loss: 0.6140 - val_accuracy: 0.7245 - lr: 0.0050 - 10s/epoch - 267ms/step\n",
      "Epoch 55/100\n",
      "\n",
      "Epoch 00055: val_loss did not improve from 0.61402\n",
      "38/38 - 9s - loss: 0.6227 - accuracy: 0.6716 - val_loss: 0.6219 - val_accuracy: 0.7143 - lr: 0.0050 - 9s/epoch - 247ms/step\n",
      "Epoch 56/100\n",
      "\n",
      "Epoch 00056: val_loss did not improve from 0.61402\n",
      "38/38 - 9s - loss: 0.6222 - accuracy: 0.6749 - val_loss: 0.6142 - val_accuracy: 0.7143 - lr: 0.0050 - 9s/epoch - 247ms/step\n",
      "Epoch 57/100\n",
      "\n",
      "Epoch 00057: val_loss improved from 0.61402 to 0.61322, saving model to D:\\Documentos\\projeto convs\\models\\masked\n",
      "38/38 - 10s - loss: 0.6282 - accuracy: 0.6766 - val_loss: 0.6132 - val_accuracy: 0.7245 - lr: 0.0050 - 10s/epoch - 266ms/step\n",
      "Epoch 58/100\n",
      "\n",
      "Epoch 00058: val_loss improved from 0.61322 to 0.61290, saving model to D:\\Documentos\\projeto convs\\models\\masked\n",
      "38/38 - 10s - loss: 0.6202 - accuracy: 0.6881 - val_loss: 0.6129 - val_accuracy: 0.7245 - lr: 0.0050 - 10s/epoch - 264ms/step\n",
      "Epoch 59/100\n",
      "\n",
      "Epoch 00059: val_loss did not improve from 0.61290\n",
      "38/38 - 9s - loss: 0.6225 - accuracy: 0.6799 - val_loss: 0.6177 - val_accuracy: 0.7245 - lr: 0.0050 - 9s/epoch - 244ms/step\n",
      "Epoch 60/100\n",
      "\n",
      "Epoch 00060: val_loss did not improve from 0.61290\n",
      "38/38 - 9s - loss: 0.6188 - accuracy: 0.6914 - val_loss: 0.6141 - val_accuracy: 0.7245 - lr: 0.0050 - 9s/epoch - 247ms/step\n",
      "Epoch 61/100\n",
      "\n",
      "Epoch 00061: val_loss improved from 0.61290 to 0.61122, saving model to D:\\Documentos\\projeto convs\\models\\masked\n",
      "38/38 - 10s - loss: 0.6156 - accuracy: 0.7030 - val_loss: 0.6112 - val_accuracy: 0.7245 - lr: 0.0050 - 10s/epoch - 264ms/step\n",
      "Epoch 62/100\n",
      "\n",
      "Epoch 00062: val_loss did not improve from 0.61122\n",
      "38/38 - 9s - loss: 0.6150 - accuracy: 0.7013 - val_loss: 0.6112 - val_accuracy: 0.7245 - lr: 0.0050 - 9s/epoch - 247ms/step\n",
      "Epoch 63/100\n",
      "\n",
      "Epoch 00063: val_loss improved from 0.61122 to 0.60855, saving model to D:\\Documentos\\projeto convs\\models\\masked\n",
      "38/38 - 10s - loss: 0.6164 - accuracy: 0.7030 - val_loss: 0.6085 - val_accuracy: 0.6939 - lr: 0.0050 - 10s/epoch - 265ms/step\n",
      "Epoch 64/100\n",
      "\n",
      "Epoch 00064: val_loss did not improve from 0.60855\n",
      "38/38 - 9s - loss: 0.6111 - accuracy: 0.7178 - val_loss: 0.6089 - val_accuracy: 0.7041 - lr: 0.0050 - 9s/epoch - 248ms/step\n",
      "Epoch 65/100\n",
      "\n",
      "Epoch 00065: val_loss did not improve from 0.60855\n",
      "38/38 - 9s - loss: 0.6205 - accuracy: 0.6947 - val_loss: 0.6097 - val_accuracy: 0.7245 - lr: 0.0050 - 9s/epoch - 247ms/step\n",
      "Epoch 66/100\n",
      "\n",
      "Epoch 00066: val_loss did not improve from 0.60855\n",
      "\n",
      "Epoch 00066: ReduceLROnPlateau reducing learning rate to 0.0024999999441206455.\n",
      "38/38 - 9s - loss: 0.6233 - accuracy: 0.6865 - val_loss: 0.6113 - val_accuracy: 0.7245 - lr: 0.0050 - 9s/epoch - 246ms/step\n",
      "Epoch 67/100\n",
      "\n",
      "Epoch 00067: val_loss did not improve from 0.60855\n",
      "38/38 - 9s - loss: 0.6134 - accuracy: 0.7013 - val_loss: 0.6099 - val_accuracy: 0.7143 - lr: 0.0025 - 9s/epoch - 249ms/step\n",
      "Epoch 68/100\n",
      "\n",
      "Epoch 00068: val_loss did not improve from 0.60855\n",
      "38/38 - 9s - loss: 0.6101 - accuracy: 0.7079 - val_loss: 0.6091 - val_accuracy: 0.7245 - lr: 0.0025 - 9s/epoch - 248ms/step\n",
      "Epoch 69/100\n",
      "\n",
      "Epoch 00069: val_loss did not improve from 0.60855\n",
      "38/38 - 9s - loss: 0.6163 - accuracy: 0.6947 - val_loss: 0.6118 - val_accuracy: 0.7245 - lr: 0.0025 - 9s/epoch - 247ms/step\n",
      "Epoch 70/100\n",
      "\n",
      "Epoch 00070: val_loss did not improve from 0.60855\n",
      "\n",
      "Epoch 00070: ReduceLROnPlateau reducing learning rate to 0.0012499999720603228.\n",
      "38/38 - 9s - loss: 0.6225 - accuracy: 0.6865 - val_loss: 0.6097 - val_accuracy: 0.7143 - lr: 0.0025 - 9s/epoch - 248ms/step\n",
      "Epoch 71/100\n",
      "\n",
      "Epoch 00071: val_loss did not improve from 0.60855\n",
      "38/38 - 9s - loss: 0.6078 - accuracy: 0.7145 - val_loss: 0.6099 - val_accuracy: 0.7143 - lr: 0.0012 - 9s/epoch - 247ms/step\n",
      "Epoch 72/100\n",
      "\n",
      "Epoch 00072: val_loss did not improve from 0.60855\n",
      "38/38 - 9s - loss: 0.6143 - accuracy: 0.7030 - val_loss: 0.6111 - val_accuracy: 0.7245 - lr: 0.0012 - 9s/epoch - 249ms/step\n",
      "Epoch 73/100\n",
      "\n",
      "Epoch 00073: val_loss did not improve from 0.60855\n",
      "38/38 - 9s - loss: 0.6156 - accuracy: 0.7013 - val_loss: 0.6094 - val_accuracy: 0.7143 - lr: 0.0012 - 9s/epoch - 248ms/step\n",
      "Epoch 74/100\n",
      "\n",
      "Epoch 00074: val_loss did not improve from 0.60855\n",
      "\n",
      "Epoch 00074: ReduceLROnPlateau reducing learning rate to 0.0006249999860301614.\n",
      "38/38 - 9s - loss: 0.6151 - accuracy: 0.6947 - val_loss: 0.6094 - val_accuracy: 0.7143 - lr: 0.0012 - 9s/epoch - 248ms/step\n",
      "Epoch 75/100\n",
      "\n",
      "Epoch 00075: val_loss did not improve from 0.60855\n",
      "38/38 - 9s - loss: 0.6090 - accuracy: 0.6947 - val_loss: 0.6099 - val_accuracy: 0.7245 - lr: 6.2500e-04 - 9s/epoch - 247ms/step\n",
      "Epoch 76/100\n",
      "\n",
      "Epoch 00076: val_loss did not improve from 0.60855\n",
      "38/38 - 9s - loss: 0.6111 - accuracy: 0.6980 - val_loss: 0.6107 - val_accuracy: 0.7245 - lr: 6.2500e-04 - 9s/epoch - 248ms/step\n",
      "Epoch 77/100\n",
      "\n",
      "Epoch 00077: val_loss did not improve from 0.60855\n",
      "38/38 - 9s - loss: 0.6115 - accuracy: 0.7030 - val_loss: 0.6107 - val_accuracy: 0.7245 - lr: 6.2500e-04 - 9s/epoch - 249ms/step\n",
      "Epoch 78/100\n",
      "\n",
      "Epoch 00078: val_loss did not improve from 0.60855\n",
      "\n",
      "Epoch 00078: ReduceLROnPlateau reducing learning rate to 0.0003124999930150807.\n",
      "38/38 - 9s - loss: 0.6157 - accuracy: 0.7063 - val_loss: 0.6103 - val_accuracy: 0.7245 - lr: 6.2500e-04 - 9s/epoch - 248ms/step\n"
     ]
    }
   ],
   "source": [
    "lr = kt.HyperParameters()\n",
    "lr.Fixed(name = 'learning rate', value = 1e-3)\n",
    "model = get_model(lr)\n",
    "history = model.fit(full_train_ds, batch_size = batch_size, epochs = 100, verbose = 2, validation_data = test_ds, callbacks = callbacks)"
   ]
  },
  {
   "cell_type": "code",
   "execution_count": 4,
   "id": "25272256",
   "metadata": {},
   "outputs": [
    {
     "data": {
      "image/png": "[encoded data removed]",
      "text/plain": [
       "<Figure size 576x360 with 1 Axes>"
      ]
     },
     "metadata": {
      "needs_background": "light"
     },
     "output_type": "display_data"
    }
   ],
   "source": [
    "import pandas as pd\n",
    "import matplotlib.pyplot as plt\n",
    "\n",
    "model.load_weights(best_model_path)\n",
    "df = pd.DataFrame(history.history)[['loss', 'val_loss']]\n",
    "pd.DataFrame(df).plot(figsize=(8,5))\n",
    "plt.xlabel('Epochs')\n",
    "plt.savefig('fullmaskedloss.png')\n",
    "plt.show()\n",
    "\n",
    "#adicionar matriz de confusão\n"
   ]
  },
  {
   "cell_type": "code",
   "execution_count": 5,
   "id": "f1354d70",
   "metadata": {},
   "outputs": [
    {
     "data": {
      "image/png": "[encoded data removed]",
      "text/plain": [
       "<Figure size 576x360 with 1 Axes>"
      ]
     },
     "metadata": {
      "needs_background": "light"
     },
     "output_type": "display_data"
    }
   ],
   "source": [
    "df = pd.DataFrame(history.history)[['accuracy', 'val_accuracy']]\n",
    "pd.DataFrame(df).plot(figsize=(8,5))\n",
    "plt.xlabel('Epochs')\n",
    "plt.savefig('fullmaskedacc.png')\n",
    "plt.show()"
   ]
  },
  {
   "cell_type": "code",
   "execution_count": 6,
   "id": "525e2083",
   "metadata": {},
   "outputs": [],
   "source": [
    "def get_binary_labels(ds, model):\n",
    "    ''' TF.dataset --> numpy.array\n",
    "    takes tensorflow dataset for data with binary classification and returns array\n",
    "    with an int representing the class for each element'''\n",
    "    labels = np.array([])\n",
    "    preds = np.array([])\n",
    "    for x, y in ds.as_numpy_iterator():\n",
    "        preds = np.append(preds, model.predict(x))\n",
    "        labels = np.append(labels, y)\n",
    "    labels = np.array([int(label) for label in labels])\n",
    "    return preds, labels\n",
    "\n",
    "preds, y = get_binary_labels(test_ds, model)\n"
   ]
  },
  {
   "cell_type": "code",
   "execution_count": 7,
   "id": "3da43c87",
   "metadata": {},
   "outputs": [
    {
     "data": {
      "application/vnd.plotly.v1+json": {
       "config": {
        "plotlyServerURL": "https://plot.ly"
       },
       "data": [
        {
         "hovertemplate": "False Positive Rate=%{x}<br>True Positive Rate=%{y}<extra></extra>",
         "legendgroup": "",
         "line": {
          "color": "#636efa"
         },
         "marker": {
          "symbol": "circle"
         },
         "mode": "lines",
         "name": "",
         "orientation": "v",
         "showlegend": false,
         "stackgroup": "1",
         "type": "scatter",
         "x": [
          0,
          0,
          0,
          0.022222222222222223,
          0.022222222222222223,
          0.044444444444444446,
          0.044444444444444446,
          0.08888888888888889,
          0.08888888888888889,
          0.1111111111111111,
          0.1111111111111111,
          0.13333333333333333,
          0.13333333333333333,
          0.15555555555555556,
          0.15555555555555556,
          0.17777777777777778,
          0.17777777777777778,
          0.24444444444444444,
          0.24444444444444444,
          0.3333333333333333,
          0.3333333333333333,
          0.4888888888888889,
          0.4888888888888889,
          0.5555555555555556,
          0.5555555555555556,
          0.5777777777777777,
          0.5777777777777777,
          0.6,
          0.6,
          0.7111111111111111,
          0.7111111111111111,
          0.8,
          0.8,
          0.8222222222222222,
          0.8222222222222222,
          0.9111111111111111,
          0.9111111111111111,
          0.9333333333333333,
          0.9333333333333333,
          1
         ],
         "xaxis": "x",
         "y": [
          0,
          0.018867924528301886,
          0.2641509433962264,
          0.2641509433962264,
          0.41509433962264153,
          0.41509433962264153,
          0.4339622641509434,
          0.4339622641509434,
          0.49056603773584906,
          0.49056603773584906,
          0.5471698113207547,
          0.5471698113207547,
          0.6037735849056604,
          0.6037735849056604,
          0.6415094339622641,
          0.6415094339622641,
          0.6792452830188679,
          0.6792452830188679,
          0.6981132075471698,
          0.6981132075471698,
          0.7169811320754716,
          0.7169811320754716,
          0.7547169811320755,
          0.7547169811320755,
          0.7735849056603774,
          0.7735849056603774,
          0.8113207547169812,
          0.8113207547169812,
          0.8301886792452831,
          0.8301886792452831,
          0.8867924528301887,
          0.8867924528301887,
          0.9245283018867925,
          0.9245283018867925,
          0.9433962264150944,
          0.9433962264150944,
          0.9622641509433962,
          0.9622641509433962,
          1,
          1
         ],
         "yaxis": "y"
        }
       ],
       "layout": {
        "height": 500,
        "legend": {
         "tracegroupgap": 0
        },
        "shapes": [
         {
          "line": {
           "dash": "dash"
          },
          "type": "line",
          "x0": 0,
          "x1": 1,
          "y0": 0,
          "y1": 1
         }
        ],
        "template": {
         "data": {
          "bar": [
           {
            "error_x": {
             "color": "#2a3f5f"
            },
            "error_y": {
             "color": "#2a3f5f"
            },
            "marker": {
             "line": {
              "color": "#E5ECF6",
              "width": 0.5
             },
             "pattern": {
              "fillmode": "overlay",
              "size": 10,
              "solidity": 0.2
             }
            },
            "type": "bar"
           }
          ],
          "barpolar": [
           {
            "marker": {
             "line": {
              "color": "#E5ECF6",
              "width": 0.5
             },
             "pattern": {
              "fillmode": "overlay",
              "size": 10,
              "solidity": 0.2
             }
            },
            "type": "barpolar"
           }
          ],
          "carpet": [
           {
            "aaxis": {
             "endlinecolor": "#2a3f5f",
             "gridcolor": "white",
             "linecolor": "white",
             "minorgridcolor": "white",
             "startlinecolor": "#2a3f5f"
            },
            "baxis": {
             "endlinecolor": "#2a3f5f",
             "gridcolor": "white",
             "linecolor": "white",
             "minorgridcolor": "white",
             "startlinecolor": "#2a3f5f"
            },
            "type": "carpet"
           }
          ],
          "choropleth": [
           {
            "colorbar": {
             "outlinewidth": 0,
             "ticks": ""
            },
            "type": "choropleth"
           }
          ],
          "contour": [
           {
            "colorbar": {
             "outlinewidth": 0,
             "ticks": ""
            },
            "colorscale": [
             [
              0,
              "#0d0887"
             ],
             [
              0.1111111111111111,
              "#46039f"
             ],
             [
              0.2222222222222222,
              "#7201a8"
             ],
             [
              0.3333333333333333,
              "#9c179e"
             ],
             [
              0.4444444444444444,
              "#bd3786"
             ],
             [
              0.5555555555555556,
              "#d8576b"
             ],
             [
              0.6666666666666666,
              "#ed7953"
             ],
             [
              0.7777777777777778,
              "#fb9f3a"
             ],
             [
              0.8888888888888888,
              "#fdca26"
             ],
             [
              1,
              "#f0f921"
             ]
            ],
            "type": "contour"
           }
          ],
          "contourcarpet": [
           {
            "colorbar": {
             "outlinewidth": 0,
             "ticks": ""
            },
            "type": "contourcarpet"
           }
          ],
          "heatmap": [
           {
            "colorbar": {
             "outlinewidth": 0,
             "ticks": ""
            },
            "colorscale": [
             [
              0,
              "#0d0887"
             ],
             [
              0.1111111111111111,
              "#46039f"
             ],
             [
              0.2222222222222222,
              "#7201a8"
             ],
             [
              0.3333333333333333,
              "#9c179e"
             ],
             [
              0.4444444444444444,
              "#bd3786"
             ],
             [
              0.5555555555555556,
              "#d8576b"
             ],
             [
              0.6666666666666666,
              "#ed7953"
             ],
             [
              0.7777777777777778,
              "#fb9f3a"
             ],
             [
              0.8888888888888888,
              "#fdca26"
             ],
             [
              1,
              "#f0f921"
             ]
            ],
            "type": "heatmap"
           }
          ],
          "heatmapgl": [
           {
            "colorbar": {
             "outlinewidth": 0,
             "ticks": ""
            },
            "colorscale": [
             [
              0,
              "#0d0887"
             ],
             [
              0.1111111111111111,
              "#46039f"
             ],
             [
              0.2222222222222222,
              "#7201a8"
             ],
             [
              0.3333333333333333,
              "#9c179e"
             ],
             [
              0.4444444444444444,
              "#bd3786"
             ],
             [
              0.5555555555555556,
              "#d8576b"
             ],
             [
              0.6666666666666666,
              "#ed7953"
             ],
             [
              0.7777777777777778,
              "#fb9f3a"
             ],
             [
              0.8888888888888888,
              "#fdca26"
             ],
             [
              1,
              "#f0f921"
             ]
            ],
            "type": "heatmapgl"
           }
          ],
          "histogram": [
           {
            "marker": {
             "pattern": {
              "fillmode": "overlay",
              "size": 10,
              "solidity": 0.2
             }
            },
            "type": "histogram"
           }
          ],
          "histogram2d": [
           {
            "colorbar": {
             "outlinewidth": 0,
             "ticks": ""
            },
            "colorscale": [
             [
              0,
              "#0d0887"
             ],
             [
              0.1111111111111111,
              "#46039f"
             ],
             [
              0.2222222222222222,
              "#7201a8"
             ],
             [
              0.3333333333333333,
              "#9c179e"
             ],
             [
              0.4444444444444444,
              "#bd3786"
             ],
             [
              0.5555555555555556,
              "#d8576b"
             ],
             [
              0.6666666666666666,
              "#ed7953"
             ],
             [
              0.7777777777777778,
              "#fb9f3a"
             ],
             [
              0.8888888888888888,
              "#fdca26"
             ],
             [
              1,
              "#f0f921"
             ]
            ],
            "type": "histogram2d"
           }
          ],
          "histogram2dcontour": [
           {
            "colorbar": {
             "outlinewidth": 0,
             "ticks": ""
            },
            "colorscale": [
             [
              0,
              "#0d0887"
             ],
             [
              0.1111111111111111,
              "#46039f"
             ],
             [
              0.2222222222222222,
              "#7201a8"
             ],
             [
              0.3333333333333333,
              "#9c179e"
             ],
             [
              0.4444444444444444,
              "#bd3786"
             ],
             [
              0.5555555555555556,
              "#d8576b"
             ],
             [
              0.6666666666666666,
              "#ed7953"
             ],
             [
              0.7777777777777778,
              "#fb9f3a"
             ],
             [
              0.8888888888888888,
              "#fdca26"
             ],
             [
              1,
              "#f0f921"
             ]
            ],
            "type": "histogram2dcontour"
           }
          ],
          "mesh3d": [
           {
            "colorbar": {
             "outlinewidth": 0,
             "ticks": ""
            },
            "type": "mesh3d"
           }
          ],
          "parcoords": [
           {
            "line": {
             "colorbar": {
              "outlinewidth": 0,
              "ticks": ""
             }
            },
            "type": "parcoords"
           }
          ],
          "pie": [
           {
            "automargin": true,
            "type": "pie"
           }
          ],
          "scatter": [
           {
            "marker": {
             "colorbar": {
              "outlinewidth": 0,
              "ticks": ""
             }
            },
            "type": "scatter"
           }
          ],
          "scatter3d": [
           {
            "line": {
             "colorbar": {
              "outlinewidth": 0,
              "ticks": ""
             }
            },
            "marker": {
             "colorbar": {
              "outlinewidth": 0,
              "ticks": ""
             }
            },
            "type": "scatter3d"
           }
          ],
          "scattercarpet": [
           {
            "marker": {
             "colorbar": {
              "outlinewidth": 0,
              "ticks": ""
             }
            },
            "type": "scattercarpet"
           }
          ],
          "scattergeo": [
           {
            "marker": {
             "colorbar": {
              "outlinewidth": 0,
              "ticks": ""
             }
            },
            "type": "scattergeo"
           }
          ],
          "scattergl": [
           {
            "marker": {
             "colorbar": {
              "outlinewidth": 0,
              "ticks": ""
             }
            },
            "type": "scattergl"
           }
          ],
          "scattermapbox": [
           {
            "marker": {
             "colorbar": {
              "outlinewidth": 0,
              "ticks": ""
             }
            },
            "type": "scattermapbox"
           }
          ],
          "scatterpolar": [
           {
            "marker": {
             "colorbar": {
              "outlinewidth": 0,
              "ticks": ""
             }
            },
            "type": "scatterpolar"
           }
          ],
          "scatterpolargl": [
           {
            "marker": {
             "colorbar": {
              "outlinewidth": 0,
              "ticks": ""
             }
            },
            "type": "scatterpolargl"
           }
          ],
          "scatterternary": [
           {
            "marker": {
             "colorbar": {
              "outlinewidth": 0,
              "ticks": ""
             }
            },
            "type": "scatterternary"
           }
          ],
          "surface": [
           {
            "colorbar": {
             "outlinewidth": 0,
             "ticks": ""
            },
            "colorscale": [
             [
              0,
              "#0d0887"
             ],
             [
              0.1111111111111111,
              "#46039f"
             ],
             [
              0.2222222222222222,
              "#7201a8"
             ],
             [
              0.3333333333333333,
              "#9c179e"
             ],
             [
              0.4444444444444444,
              "#bd3786"
             ],
             [
              0.5555555555555556,
              "#d8576b"
             ],
             [
              0.6666666666666666,
              "#ed7953"
             ],
             [
              0.7777777777777778,
              "#fb9f3a"
             ],
             [
              0.8888888888888888,
              "#fdca26"
             ],
             [
              1,
              "#f0f921"
             ]
            ],
            "type": "surface"
           }
          ],
          "table": [
           {
            "cells": {
             "fill": {
              "color": "#EBF0F8"
             },
             "line": {
              "color": "white"
             }
            },
            "header": {
             "fill": {
              "color": "#C8D4E3"
             },
             "line": {
              "color": "white"
             }
            },
            "type": "table"
           }
          ]
         },
         "layout": {
          "annotationdefaults": {
           "arrowcolor": "#2a3f5f",
           "arrowhead": 0,
           "arrowwidth": 1
          },
          "autotypenumbers": "strict",
          "coloraxis": {
           "colorbar": {
            "outlinewidth": 0,
            "ticks": ""
           }
          },
          "colorscale": {
           "diverging": [
            [
             0,
             "#8e0152"
            ],
            [
             0.1,
             "#c51b7d"
            ],
            [
             0.2,
             "#de77ae"
            ],
            [
             0.3,
             "#f1b6da"
            ],
            [
             0.4,
             "#fde0ef"
            ],
            [
             0.5,
             "#f7f7f7"
            ],
            [
             0.6,
             "#e6f5d0"
            ],
            [
             0.7,
             "#b8e186"
            ],
            [
             0.8,
             "#7fbc41"
            ],
            [
             0.9,
             "#4d9221"
            ],
            [
             1,
             "#276419"
            ]
           ],
           "sequential": [
            [
             0,
             "#0d0887"
            ],
            [
             0.1111111111111111,
             "#46039f"
            ],
            [
             0.2222222222222222,
             "#7201a8"
            ],
            [
             0.3333333333333333,
             "#9c179e"
            ],
            [
             0.4444444444444444,
             "#bd3786"
            ],
            [
             0.5555555555555556,
             "#d8576b"
            ],
            [
             0.6666666666666666,
             "#ed7953"
            ],
            [
             0.7777777777777778,
             "#fb9f3a"
            ],
            [
             0.8888888888888888,
             "#fdca26"
            ],
            [
             1,
             "#f0f921"
            ]
           ],
           "sequentialminus": [
            [
             0,
             "#0d0887"
            ],
            [
             0.1111111111111111,
             "#46039f"
            ],
            [
             0.2222222222222222,
             "#7201a8"
            ],
            [
             0.3333333333333333,
             "#9c179e"
            ],
            [
             0.4444444444444444,
             "#bd3786"
            ],
            [
             0.5555555555555556,
             "#d8576b"
            ],
            [
             0.6666666666666666,
             "#ed7953"
            ],
            [
             0.7777777777777778,
             "#fb9f3a"
            ],
            [
             0.8888888888888888,
             "#fdca26"
            ],
            [
             1,
             "#f0f921"
            ]
           ]
          },
          "colorway": [
           "#636efa",
           "#EF553B",
           "#00cc96",
           "#ab63fa",
           "#FFA15A",
           "#19d3f3",
           "#FF6692",
           "#B6E880",
           "#FF97FF",
           "#FECB52"
          ],
          "font": {
           "color": "#2a3f5f"
          },
          "geo": {
           "bgcolor": "white",
           "lakecolor": "white",
           "landcolor": "#E5ECF6",
           "showlakes": true,
           "showland": true,
           "subunitcolor": "white"
          },
          "hoverlabel": {
           "align": "left"
          },
          "hovermode": "closest",
          "mapbox": {
           "style": "light"
          },
          "paper_bgcolor": "white",
          "plot_bgcolor": "#E5ECF6",
          "polar": {
           "angularaxis": {
            "gridcolor": "white",
            "linecolor": "white",
            "ticks": ""
           },
           "bgcolor": "#E5ECF6",
           "radialaxis": {
            "gridcolor": "white",
            "linecolor": "white",
            "ticks": ""
           }
          },
          "scene": {
           "xaxis": {
            "backgroundcolor": "#E5ECF6",
            "gridcolor": "white",
            "gridwidth": 2,
            "linecolor": "white",
            "showbackground": true,
            "ticks": "",
            "zerolinecolor": "white"
           },
           "yaxis": {
            "backgroundcolor": "#E5ECF6",
            "gridcolor": "white",
            "gridwidth": 2,
            "linecolor": "white",
            "showbackground": true,
            "ticks": "",
            "zerolinecolor": "white"
           },
           "zaxis": {
            "backgroundcolor": "#E5ECF6",
            "gridcolor": "white",
            "gridwidth": 2,
            "linecolor": "white",
            "showbackground": true,
            "ticks": "",
            "zerolinecolor": "white"
           }
          },
          "shapedefaults": {
           "line": {
            "color": "#2a3f5f"
           }
          },
          "ternary": {
           "aaxis": {
            "gridcolor": "white",
            "linecolor": "white",
            "ticks": ""
           },
           "baxis": {
            "gridcolor": "white",
            "linecolor": "white",
            "ticks": ""
           },
           "bgcolor": "#E5ECF6",
           "caxis": {
            "gridcolor": "white",
            "linecolor": "white",
            "ticks": ""
           }
          },
          "title": {
           "x": 0.05
          },
          "xaxis": {
           "automargin": true,
           "gridcolor": "white",
           "linecolor": "white",
           "ticks": "",
           "title": {
            "standoff": 15
           },
           "zerolinecolor": "white",
           "zerolinewidth": 2
          },
          "yaxis": {
           "automargin": true,
           "gridcolor": "white",
           "linecolor": "white",
           "ticks": "",
           "title": {
            "standoff": 15
           },
           "zerolinecolor": "white",
           "zerolinewidth": 2
          }
         }
        },
        "title": {
         "text": "ROC Curve (AUC=0.7530)"
        },
        "width": 700,
        "xaxis": {
         "anchor": "y",
         "constrain": "domain",
         "domain": [
          0,
          1
         ],
         "title": {
          "text": "False Positive Rate"
         }
        },
        "yaxis": {
         "anchor": "x",
         "domain": [
          0,
          1
         ],
         "scaleanchor": "x",
         "scaleratio": 1,
         "title": {
          "text": "True Positive Rate"
         }
        }
       }
      }
     },
     "metadata": {},
     "output_type": "display_data"
    }
   ],
   "source": [
    "import matplotlib.pyplot as plt\n",
    "import seaborn as sns\n",
    "from sklearn.metrics import confusion_matrix, classification_report, auc,  roc_curve\n",
    "import plotly.express as px\n",
    "\n",
    "\n",
    "fpr, tpr, thresholds = roc_curve(y, preds)\n",
    "fig = px.area(\n",
    "    x=fpr, y=tpr,\n",
    "    title=f'ROC Curve (AUC={auc(fpr, tpr):.4f})',\n",
    "    labels=dict(x='False Positive Rate', y='True Positive Rate'),\n",
    "    width=700, height=500\n",
    ")\n",
    "fig.add_shape(\n",
    "    type='line', line=dict(dash='dash'),\n",
    "    x0=0, x1=1, y0=0, y1=1\n",
    ")\n",
    "\n",
    "fig.update_yaxes(scaleanchor=\"x\", scaleratio=1)\n",
    "fig.update_xaxes(constrain='domain')\n",
    "fig.show()\n"
   ]
  },
  {
   "cell_type": "code",
   "execution_count": 8,
   "id": "0328b66d",
   "metadata": {},
   "outputs": [],
   "source": [
    "dists = np.array([(np.sqrt((0 - x)**2 + (1-y)**2)) for x, y in zip(fpr, tpr)])\n",
    "cutoff_idx = dists.argmin()\n",
    "cutoff = thresholds[cutoff_idx]\n",
    "\n",
    "#Selecionando cutoff"
   ]
  },
  {
   "cell_type": "code",
   "execution_count": 10,
   "id": "21fcbec2",
   "metadata": {},
   "outputs": [
    {
     "data": {
      "image/png": "[encoded data removed]",
      "text/plain": [
       "<Figure size 432x288 with 2 Axes>"
      ]
     },
     "metadata": {},
     "output_type": "display_data"
    },
    {
     "data": {
      "text/plain": [
       "<Figure size 720x504 with 0 Axes>"
      ]
     },
     "metadata": {},
     "output_type": "display_data"
    },
    {
     "name": "stdout",
     "output_type": "stream",
     "text": [
      "              precision    recall  f1-score   support\n",
      "\n",
      "           0       0.69      0.82      0.75        45\n",
      "           1       0.82      0.68      0.74        53\n",
      "\n",
      "    accuracy                           0.74        98\n",
      "   macro avg       0.75      0.75      0.74        98\n",
      "weighted avg       0.76      0.74      0.74        98\n",
      "\n"
     ]
    }
   ],
   "source": [
    "preds2 = np.array([1 if x >= cutoff else 0 for x in preds])\n",
    "cm = confusion_matrix(y, preds2)\n",
    "#turn this into a dataframe\n",
    "matrix_df = pd.DataFrame(cm)\n",
    "#plot the result\n",
    "ax = plt.axes()\n",
    "sns.set(font_scale=1.3)\n",
    "plt.figure(figsize=(10,7))\n",
    "sns.heatmap(matrix_df, annot=True, fmt=\"g\", ax=ax, cmap=\"magma\")\n",
    "#set axis titles\n",
    "ax.set_title('Confusion Matrix - Dense121')\n",
    "ax.set_xlabel(\"Predicted label\", fontsize =15)\n",
    "ax.set_ylabel(\"True Label\", fontsize=15)\n",
    "plt.savefig('fullmaskedcm.png')\n",
    "plt.show()\n",
    "print(classification_report(y, preds2))"
   ]
  },
  {
   "cell_type": "code",
   "execution_count": 13,
   "id": "6bf408a0",
   "metadata": {},
   "outputs": [
    {
     "name": "stdout",
     "output_type": "stream",
     "text": [
      "\\begin{tabular}{lrrrr}\n",
      "\\toprule\n",
      "{} &  precision &    recall &  f1-score &    support \\\\\n",
      "\\midrule\n",
      "0            &   0.685185 &  0.822222 &  0.747475 &  45.000000 \\\\\n",
      "1            &   0.818182 &  0.679245 &  0.742268 &  53.000000 \\\\\n",
      "accuracy     &   0.744898 &  0.744898 &  0.744898 &   0.744898 \\\\\n",
      "macro avg    &   0.751684 &  0.750734 &  0.744871 &  98.000000 \\\\\n",
      "weighted avg &   0.757112 &  0.744898 &  0.744659 &  98.000000 \\\\\n",
      "\\bottomrule\n",
      "\\end{tabular}\n",
      "\n"
     ]
    }
   ],
   "source": [
    "print(pd.DataFrame(classification_report(y, preds2, output_dict=True)).transpose().to_latex())"
   ]
  },
  {
   "cell_type": "markdown",
   "id": "624e32e1",
   "metadata": {},
   "source": [
    "To Do:\n",
    "\n",
    "- Tuning nos k-folds\n",
    "- Gradcam\n"
   ]
  }
 ],
 "metadata": {
  "kernelspec": {
   "display_name": "Python 3 (ipykernel)",
   "language": "python",
   "name": "python3"
  },
  "language_info": {
   "codemirror_mode": {
    "name": "ipython",
    "version": 3
   },
   "file_extension": ".py",
   "mimetype": "text/x-python",
   "name": "python",
   "nbconvert_exporter": "python",
   "pygments_lexer": "ipython3",
   "version": "3.9.4"
  }
 },
 "nbformat": 4,
 "nbformat_minor": 5
}
